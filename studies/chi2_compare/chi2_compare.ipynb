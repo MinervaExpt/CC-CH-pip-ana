{
 "cells": [
  {
   "cell_type": "code",
   "execution_count": 52,
   "id": "e58ce5ad-052d-4701-bcd8-0a7fed307ca7",
   "metadata": {},
   "outputs": [],
   "source": [
    "import pandas as pd\n",
    "import plotly.graph_objs as go\n",
    "from plotly import colors as cs"
   ]
  },
  {
   "cell_type": "code",
   "execution_count": 30,
   "id": "00e3ec37-67eb-4b33-9ec5-5d395ce04f73",
   "metadata": {},
   "outputs": [],
   "source": [
    "# Load the data, skipping the first row and setting the first column as the index\n",
    "data = pd.read_csv('ccpi_model_chi2_by_variable.csv', header=0, index_col=0)\n",
    "data = data.fillna(0)"
   ]
  },
  {
   "cell_type": "code",
   "execution_count": 33,
   "id": "722389a0-386d-4584-833d-2a61c5a9a399",
   "metadata": {},
   "outputs": [
    {
     "data": {
      "text/html": [
       "<div>\n",
       "<style scoped>\n",
       "    .dataframe tbody tr th:only-of-type {\n",
       "        vertical-align: middle;\n",
       "    }\n",
       "\n",
       "    .dataframe tbody tr th {\n",
       "        vertical-align: top;\n",
       "    }\n",
       "\n",
       "    .dataframe thead th {\n",
       "        text-align: right;\n",
       "    }\n",
       "</style>\n",
       "<table border=\"1\" class=\"dataframe\">\n",
       "  <thead>\n",
       "    <tr style=\"text-align: right;\">\n",
       "      <th></th>\n",
       "      <th>Tpi_chi2_no_syst</th>\n",
       "      <th>Tpi_logchi2_no_syst</th>\n",
       "      <th>Tpi_chi2_syst</th>\n",
       "      <th>Tpi_logchi2_syst</th>\n",
       "      <th>thpi_chi2_no_syst</th>\n",
       "      <th>thpi_logchi2_no_syst</th>\n",
       "      <th>thpi_chi2_syst</th>\n",
       "      <th>thpi_logchi2_syst</th>\n",
       "      <th>q2_chi2_no_syst</th>\n",
       "      <th>q2_logchi2_no_syst</th>\n",
       "      <th>...</th>\n",
       "      <th>pzmu_chi2_syst</th>\n",
       "      <th>pzmu_logchi2_syst</th>\n",
       "      <th>pmu_chi2_no_syst</th>\n",
       "      <th>pmu_logchi2_no_syst</th>\n",
       "      <th>pmu_chi2_syst</th>\n",
       "      <th>pmu_logchi2_syst</th>\n",
       "      <th>thmu_chi2_no_syst</th>\n",
       "      <th>thmu_logchi2_no_syst</th>\n",
       "      <th>thmu_chi2_syst</th>\n",
       "      <th>thmu_logchi2_syst</th>\n",
       "    </tr>\n",
       "    <tr>\n",
       "      <th>model</th>\n",
       "      <th></th>\n",
       "      <th></th>\n",
       "      <th></th>\n",
       "      <th></th>\n",
       "      <th></th>\n",
       "      <th></th>\n",
       "      <th></th>\n",
       "      <th></th>\n",
       "      <th></th>\n",
       "      <th></th>\n",
       "      <th></th>\n",
       "      <th></th>\n",
       "      <th></th>\n",
       "      <th></th>\n",
       "      <th></th>\n",
       "      <th></th>\n",
       "      <th></th>\n",
       "      <th></th>\n",
       "      <th></th>\n",
       "      <th></th>\n",
       "      <th></th>\n",
       "    </tr>\n",
       "  </thead>\n",
       "  <tbody>\n",
       "    <tr>\n",
       "      <th>GENIE v2.12.6</th>\n",
       "      <td>0.0000</td>\n",
       "      <td>149.2950</td>\n",
       "      <td>0.0000</td>\n",
       "      <td>100.9120</td>\n",
       "      <td>71.6322</td>\n",
       "      <td>6.51202</td>\n",
       "      <td>0.0</td>\n",
       "      <td>0.0</td>\n",
       "      <td>24.6726</td>\n",
       "      <td>31.1815</td>\n",
       "      <td>...</td>\n",
       "      <td>41.6660</td>\n",
       "      <td>39.0577</td>\n",
       "      <td>32.1063</td>\n",
       "      <td>28.9744</td>\n",
       "      <td>31.3921</td>\n",
       "      <td>28.5553</td>\n",
       "      <td>37.1693</td>\n",
       "      <td>35.5344</td>\n",
       "      <td>34.0375</td>\n",
       "      <td>31.4346</td>\n",
       "    </tr>\n",
       "    <tr>\n",
       "      <th>GENIE v3 hA empirical 2p2h</th>\n",
       "      <td>75.4878</td>\n",
       "      <td>98.5293</td>\n",
       "      <td>68.4461</td>\n",
       "      <td>84.4242</td>\n",
       "      <td>43.9173</td>\n",
       "      <td>3.99248</td>\n",
       "      <td>0.0</td>\n",
       "      <td>0.0</td>\n",
       "      <td>25.5212</td>\n",
       "      <td>31.3471</td>\n",
       "      <td>...</td>\n",
       "      <td>26.0684</td>\n",
       "      <td>41.2503</td>\n",
       "      <td>24.1889</td>\n",
       "      <td>35.7354</td>\n",
       "      <td>18.8641</td>\n",
       "      <td>28.8969</td>\n",
       "      <td>19.7492</td>\n",
       "      <td>28.7091</td>\n",
       "      <td>18.5148</td>\n",
       "      <td>25.7634</td>\n",
       "    </tr>\n",
       "    <tr>\n",
       "      <th>GENIE v3 hN empirical 2p2h</th>\n",
       "      <td>48.9003</td>\n",
       "      <td>61.1638</td>\n",
       "      <td>44.9322</td>\n",
       "      <td>54.3024</td>\n",
       "      <td>30.5826</td>\n",
       "      <td>2.78024</td>\n",
       "      <td>0.0</td>\n",
       "      <td>0.0</td>\n",
       "      <td>20.8284</td>\n",
       "      <td>26.0079</td>\n",
       "      <td>...</td>\n",
       "      <td>26.2588</td>\n",
       "      <td>36.4178</td>\n",
       "      <td>22.9231</td>\n",
       "      <td>30.1886</td>\n",
       "      <td>19.3235</td>\n",
       "      <td>26.1112</td>\n",
       "      <td>15.4378</td>\n",
       "      <td>21.8257</td>\n",
       "      <td>14.0936</td>\n",
       "      <td>19.2515</td>\n",
       "    </tr>\n",
       "    <tr>\n",
       "      <th>GiBUU</th>\n",
       "      <td>49.4490</td>\n",
       "      <td>73.8266</td>\n",
       "      <td>51.0090</td>\n",
       "      <td>75.8346</td>\n",
       "      <td>37.3839</td>\n",
       "      <td>3.39854</td>\n",
       "      <td>0.0</td>\n",
       "      <td>0.0</td>\n",
       "      <td>18.6989</td>\n",
       "      <td>24.1675</td>\n",
       "      <td>...</td>\n",
       "      <td>26.7482</td>\n",
       "      <td>40.2687</td>\n",
       "      <td>25.2187</td>\n",
       "      <td>35.3492</td>\n",
       "      <td>19.7429</td>\n",
       "      <td>28.6173</td>\n",
       "      <td>18.7325</td>\n",
       "      <td>29.4017</td>\n",
       "      <td>16.7377</td>\n",
       "      <td>24.9694</td>\n",
       "    </tr>\n",
       "    <tr>\n",
       "      <th>NEUT LFG</th>\n",
       "      <td>61.2999</td>\n",
       "      <td>67.7611</td>\n",
       "      <td>57.5452</td>\n",
       "      <td>65.5476</td>\n",
       "      <td>32.1582</td>\n",
       "      <td>2.92348</td>\n",
       "      <td>0.0</td>\n",
       "      <td>0.0</td>\n",
       "      <td>10.8694</td>\n",
       "      <td>17.0380</td>\n",
       "      <td>...</td>\n",
       "      <td>33.8826</td>\n",
       "      <td>36.7442</td>\n",
       "      <td>30.1816</td>\n",
       "      <td>31.0293</td>\n",
       "      <td>27.5012</td>\n",
       "      <td>28.6466</td>\n",
       "      <td>20.4995</td>\n",
       "      <td>26.1603</td>\n",
       "      <td>17.4536</td>\n",
       "      <td>21.6736</td>\n",
       "    </tr>\n",
       "    <tr>\n",
       "      <th>NEUT SF</th>\n",
       "      <td>59.5656</td>\n",
       "      <td>69.0038</td>\n",
       "      <td>56.5187</td>\n",
       "      <td>66.8736</td>\n",
       "      <td>30.2403</td>\n",
       "      <td>2.74912</td>\n",
       "      <td>0.0</td>\n",
       "      <td>0.0</td>\n",
       "      <td>11.2616</td>\n",
       "      <td>18.0510</td>\n",
       "      <td>...</td>\n",
       "      <td>32.6643</td>\n",
       "      <td>36.2821</td>\n",
       "      <td>27.9453</td>\n",
       "      <td>29.4817</td>\n",
       "      <td>24.7922</td>\n",
       "      <td>26.5640</td>\n",
       "      <td>24.1209</td>\n",
       "      <td>32.2013</td>\n",
       "      <td>20.5160</td>\n",
       "      <td>26.5567</td>\n",
       "    </tr>\n",
       "    <tr>\n",
       "      <th>NuWro LFG</th>\n",
       "      <td>65.0521</td>\n",
       "      <td>89.9854</td>\n",
       "      <td>58.2761</td>\n",
       "      <td>78.3682</td>\n",
       "      <td>22.6131</td>\n",
       "      <td>2.05574</td>\n",
       "      <td>0.0</td>\n",
       "      <td>0.0</td>\n",
       "      <td>27.7242</td>\n",
       "      <td>34.0579</td>\n",
       "      <td>...</td>\n",
       "      <td>29.5406</td>\n",
       "      <td>38.9765</td>\n",
       "      <td>25.4272</td>\n",
       "      <td>31.7163</td>\n",
       "      <td>22.3365</td>\n",
       "      <td>28.4560</td>\n",
       "      <td>19.7123</td>\n",
       "      <td>27.0562</td>\n",
       "      <td>18.3560</td>\n",
       "      <td>24.4678</td>\n",
       "    </tr>\n",
       "    <tr>\n",
       "      <th>NuWro SF</th>\n",
       "      <td>66.7584</td>\n",
       "      <td>88.8344</td>\n",
       "      <td>59.0508</td>\n",
       "      <td>76.4871</td>\n",
       "      <td>22.2718</td>\n",
       "      <td>2.02471</td>\n",
       "      <td>0.0</td>\n",
       "      <td>0.0</td>\n",
       "      <td>27.8373</td>\n",
       "      <td>34.2472</td>\n",
       "      <td>...</td>\n",
       "      <td>29.6158</td>\n",
       "      <td>38.6284</td>\n",
       "      <td>25.5445</td>\n",
       "      <td>31.4932</td>\n",
       "      <td>22.6008</td>\n",
       "      <td>28.4265</td>\n",
       "      <td>20.0788</td>\n",
       "      <td>27.2006</td>\n",
       "      <td>18.7233</td>\n",
       "      <td>24.6450</td>\n",
       "    </tr>\n",
       "  </tbody>\n",
       "</table>\n",
       "<p>8 rows × 28 columns</p>\n",
       "</div>"
      ],
      "text/plain": [
       "                            Tpi_chi2_no_syst  Tpi_logchi2_no_syst  \\\n",
       "model                                                               \n",
       "GENIE v2.12.6                         0.0000             149.2950   \n",
       "GENIE v3 hA empirical 2p2h           75.4878              98.5293   \n",
       "GENIE v3 hN empirical 2p2h           48.9003              61.1638   \n",
       "GiBUU                                49.4490              73.8266   \n",
       "NEUT LFG                             61.2999              67.7611   \n",
       "NEUT SF                              59.5656              69.0038   \n",
       "NuWro LFG                            65.0521              89.9854   \n",
       "NuWro SF                             66.7584              88.8344   \n",
       "\n",
       "                            Tpi_chi2_syst  Tpi_logchi2_syst  \\\n",
       "model                                                         \n",
       "GENIE v2.12.6                      0.0000          100.9120   \n",
       "GENIE v3 hA empirical 2p2h        68.4461           84.4242   \n",
       "GENIE v3 hN empirical 2p2h        44.9322           54.3024   \n",
       "GiBUU                             51.0090           75.8346   \n",
       "NEUT LFG                          57.5452           65.5476   \n",
       "NEUT SF                           56.5187           66.8736   \n",
       "NuWro LFG                         58.2761           78.3682   \n",
       "NuWro SF                          59.0508           76.4871   \n",
       "\n",
       "                            thpi_chi2_no_syst  thpi_logchi2_no_syst  \\\n",
       "model                                                                 \n",
       "GENIE v2.12.6                         71.6322               6.51202   \n",
       "GENIE v3 hA empirical 2p2h            43.9173               3.99248   \n",
       "GENIE v3 hN empirical 2p2h            30.5826               2.78024   \n",
       "GiBUU                                 37.3839               3.39854   \n",
       "NEUT LFG                              32.1582               2.92348   \n",
       "NEUT SF                               30.2403               2.74912   \n",
       "NuWro LFG                             22.6131               2.05574   \n",
       "NuWro SF                              22.2718               2.02471   \n",
       "\n",
       "                            thpi_chi2_syst  thpi_logchi2_syst  \\\n",
       "model                                                           \n",
       "GENIE v2.12.6                          0.0                0.0   \n",
       "GENIE v3 hA empirical 2p2h             0.0                0.0   \n",
       "GENIE v3 hN empirical 2p2h             0.0                0.0   \n",
       "GiBUU                                  0.0                0.0   \n",
       "NEUT LFG                               0.0                0.0   \n",
       "NEUT SF                                0.0                0.0   \n",
       "NuWro LFG                              0.0                0.0   \n",
       "NuWro SF                               0.0                0.0   \n",
       "\n",
       "                            q2_chi2_no_syst  q2_logchi2_no_syst  ...  \\\n",
       "model                                                            ...   \n",
       "GENIE v2.12.6                       24.6726             31.1815  ...   \n",
       "GENIE v3 hA empirical 2p2h          25.5212             31.3471  ...   \n",
       "GENIE v3 hN empirical 2p2h          20.8284             26.0079  ...   \n",
       "GiBUU                               18.6989             24.1675  ...   \n",
       "NEUT LFG                            10.8694             17.0380  ...   \n",
       "NEUT SF                             11.2616             18.0510  ...   \n",
       "NuWro LFG                           27.7242             34.0579  ...   \n",
       "NuWro SF                            27.8373             34.2472  ...   \n",
       "\n",
       "                            pzmu_chi2_syst  pzmu_logchi2_syst  \\\n",
       "model                                                           \n",
       "GENIE v2.12.6                      41.6660            39.0577   \n",
       "GENIE v3 hA empirical 2p2h         26.0684            41.2503   \n",
       "GENIE v3 hN empirical 2p2h         26.2588            36.4178   \n",
       "GiBUU                              26.7482            40.2687   \n",
       "NEUT LFG                           33.8826            36.7442   \n",
       "NEUT SF                            32.6643            36.2821   \n",
       "NuWro LFG                          29.5406            38.9765   \n",
       "NuWro SF                           29.6158            38.6284   \n",
       "\n",
       "                            pmu_chi2_no_syst  pmu_logchi2_no_syst  \\\n",
       "model                                                               \n",
       "GENIE v2.12.6                        32.1063              28.9744   \n",
       "GENIE v3 hA empirical 2p2h           24.1889              35.7354   \n",
       "GENIE v3 hN empirical 2p2h           22.9231              30.1886   \n",
       "GiBUU                                25.2187              35.3492   \n",
       "NEUT LFG                             30.1816              31.0293   \n",
       "NEUT SF                              27.9453              29.4817   \n",
       "NuWro LFG                            25.4272              31.7163   \n",
       "NuWro SF                             25.5445              31.4932   \n",
       "\n",
       "                            pmu_chi2_syst  pmu_logchi2_syst  \\\n",
       "model                                                         \n",
       "GENIE v2.12.6                     31.3921           28.5553   \n",
       "GENIE v3 hA empirical 2p2h        18.8641           28.8969   \n",
       "GENIE v3 hN empirical 2p2h        19.3235           26.1112   \n",
       "GiBUU                             19.7429           28.6173   \n",
       "NEUT LFG                          27.5012           28.6466   \n",
       "NEUT SF                           24.7922           26.5640   \n",
       "NuWro LFG                         22.3365           28.4560   \n",
       "NuWro SF                          22.6008           28.4265   \n",
       "\n",
       "                            thmu_chi2_no_syst  thmu_logchi2_no_syst  \\\n",
       "model                                                                 \n",
       "GENIE v2.12.6                         37.1693               35.5344   \n",
       "GENIE v3 hA empirical 2p2h            19.7492               28.7091   \n",
       "GENIE v3 hN empirical 2p2h            15.4378               21.8257   \n",
       "GiBUU                                 18.7325               29.4017   \n",
       "NEUT LFG                              20.4995               26.1603   \n",
       "NEUT SF                               24.1209               32.2013   \n",
       "NuWro LFG                             19.7123               27.0562   \n",
       "NuWro SF                              20.0788               27.2006   \n",
       "\n",
       "                            thmu_chi2_syst  thmu_logchi2_syst  \n",
       "model                                                          \n",
       "GENIE v2.12.6                      34.0375            31.4346  \n",
       "GENIE v3 hA empirical 2p2h         18.5148            25.7634  \n",
       "GENIE v3 hN empirical 2p2h         14.0936            19.2515  \n",
       "GiBUU                              16.7377            24.9694  \n",
       "NEUT LFG                           17.4536            21.6736  \n",
       "NEUT SF                            20.5160            26.5567  \n",
       "NuWro LFG                          18.3560            24.4678  \n",
       "NuWro SF                           18.7233            24.6450  \n",
       "\n",
       "[8 rows x 28 columns]"
      ]
     },
     "execution_count": 33,
     "metadata": {},
     "output_type": "execute_result"
    }
   ],
   "source": [
    "data"
   ]
  },
  {
   "cell_type": "code",
   "execution_count": 4,
   "id": "da632392-361a-4158-a7f0-3cf079cfe042",
   "metadata": {},
   "outputs": [
    {
     "data": {
      "text/plain": [
       "Index(['Tpi_chi2_no_syst', 'Tpi_logchi2_no_syst', 'Tpi_chi2_syst',\n",
       "       'Tpi_logchi2_syst', 'thpi_chi2_no_syst', 'thpi_logchi2_no_syst',\n",
       "       'thpi_chi2_syst', 'thpi_logchi2_syst', 'q2_chi2_no_syst',\n",
       "       'q2_logchi2_no_syst', 'q2_chi2_syst', 'q2_logchi2_syst',\n",
       "       'ptmu_chi2_no_syst', 'ptmu_logchi2_no_syst', 'ptmu_chi2_syst',\n",
       "       'ptmu_logchi2_syst', 'pzmu_chi2_no_syst', 'pzmu_logchi2_no_syst',\n",
       "       'pzmu_chi2_syst', 'pzmu_logchi2_syst', 'pmu_chi2_no_syst',\n",
       "       'pmu_logchi2_no_syst', 'pmu_chi2_syst', 'pmu_logchi2_syst',\n",
       "       'thmu_chi2_no_syst', 'thmu_logchi2_no_syst', 'thmu_chi2_syst',\n",
       "       'thmu_logchi2_syst'],\n",
       "      dtype='object')"
      ]
     },
     "execution_count": 4,
     "metadata": {},
     "output_type": "execute_result"
    }
   ],
   "source": [
    "data.columns"
   ]
  },
  {
   "cell_type": "code",
   "execution_count": 57,
   "id": "43b3c16c-c900-4726-874e-fb882a488514",
   "metadata": {},
   "outputs": [],
   "source": [
    "# one plot for each variable, x-axis = model, y-axis = log norm chi2\n",
    "def plot_chi2s_by_variable(data, variable, show = True, save = False):\n",
    "    fig = go.Figure()\n",
    "\n",
    "    no_syst = variable + \"_logchi2_no_syst\"\n",
    "    syst = variable + \"_logchi2_syst\"\n",
    "    min_value = 0\n",
    "    max_value = data[[no_syst, syst]].max().max()*1.1\n",
    "    # Plot the two series for each pair\n",
    "    fig.add_trace(go.Scatter(\n",
    "        x=data.index,\n",
    "        y=data[no_syst],\n",
    "        mode='markers',\n",
    "        name=variable + \" - no syst\",\n",
    "        marker=dict(size=10, color=cs.DEFAULT_PLOTLY_COLORS[0])\n",
    "    ))\n",
    "    fig.add_trace(go.Scatter(\n",
    "        x=data.index,\n",
    "        y=data[syst],\n",
    "        mode='markers',\n",
    "        name=variable + \" - syst\",\n",
    "        marker=dict(size=10, color=cs.DEFAULT_PLOTLY_COLORS[1])\n",
    "    ))\n",
    "    \n",
    "    # Draw arrows from each \"no_syst\" point to the corresponding \"syst\" point\n",
    "    for i in range(len(data)):\n",
    "        fig.add_annotation(\n",
    "            x=data.index[i],  # x-coordinate for the arrowhead\n",
    "            y=data[syst].iloc[i],  # y-coordinate for the arrowhead (syst)\n",
    "            ax=data.index[i],  # x-coordinate for arrow start (same as x)\n",
    "            ay=data[no_syst].iloc[i],  # y-coordinate for arrow start (no_syst)\n",
    "            xref=\"x\",\n",
    "            yref=\"y\",\n",
    "            axref=\"x\",\n",
    "            ayref=\"y\",\n",
    "            showarrow=True,\n",
    "            arrowhead=2,\n",
    "            arrowsize=1,\n",
    "            arrowwidth=1.5,\n",
    "            arrowcolor=\"gray\"\n",
    "        )\n",
    "        \n",
    "    fig.update_layout(\n",
    "        title=variable + \" Log Normal Chi2\",\n",
    "        xaxis_title=\"Models\",\n",
    "        yaxis_title=\"Log Norm Chi2\",\n",
    "        legend_title=\"Series\",\n",
    "        height=800,\n",
    "        autosize=False,\n",
    "        plot_bgcolor='white',\n",
    "        paper_bgcolor='white',\n",
    "        xaxis=dict(\n",
    "            tickmode='linear',\n",
    "            showgrid=True,\n",
    "            gridcolor='lightgray',\n",
    "            linecolor='black'\n",
    "        ),\n",
    "        yaxis=dict(\n",
    "            range=[min_value, max_value],  # Set fixed range\n",
    "            autorange=False,\n",
    "            showgrid=True,\n",
    "            gridcolor='lightgray',\n",
    "            linecolor='black'\n",
    "        )\n",
    "    )\n",
    "    \n",
    "    # Show plot\n",
    "    if show:\n",
    "        fig.show()\n",
    "\n",
    "    if save:\n",
    "        fig.write_image(f\"{variable}_logchi2_comparison.png\")"
   ]
  },
  {
   "cell_type": "code",
   "execution_count": 58,
   "id": "de8381b5-a5e1-467b-8aaf-816b475edb92",
   "metadata": {},
   "outputs": [
    {
     "data": {
      "application/vnd.plotly.v1+json": {
       "config": {
        "plotlyServerURL": "https://plot.ly"
       },
       "data": [
        {
         "marker": {
          "color": "rgb(31, 119, 180)",
          "size": 10
         },
         "mode": "markers",
         "name": "Tpi - no syst",
         "type": "scatter",
         "x": [
          "GENIE v2.12.6",
          "GENIE v3 hA empirical 2p2h",
          "GENIE v3 hN empirical 2p2h",
          "GiBUU",
          "NEUT LFG",
          "NEUT SF",
          "NuWro LFG",
          "NuWro SF"
         ],
         "y": [
          149.295,
          98.5293,
          61.1638,
          73.8266,
          67.7611,
          69.0038,
          89.9854,
          88.8344
         ]
        },
        {
         "marker": {
          "color": "rgb(255, 127, 14)",
          "size": 10
         },
         "mode": "markers",
         "name": "Tpi - syst",
         "type": "scatter",
         "x": [
          "GENIE v2.12.6",
          "GENIE v3 hA empirical 2p2h",
          "GENIE v3 hN empirical 2p2h",
          "GiBUU",
          "NEUT LFG",
          "NEUT SF",
          "NuWro LFG",
          "NuWro SF"
         ],
         "y": [
          100.912,
          84.4242,
          54.3024,
          75.8346,
          65.5476,
          66.8736,
          78.3682,
          76.4871
         ]
        }
       ],
       "layout": {
        "annotations": [
         {
          "arrowcolor": "gray",
          "arrowhead": 2,
          "arrowsize": 1,
          "arrowwidth": 1.5,
          "ax": "GENIE v2.12.6",
          "axref": "x",
          "ay": 149.295,
          "ayref": "y",
          "showarrow": true,
          "x": "GENIE v2.12.6",
          "xref": "x",
          "y": 100.912,
          "yref": "y"
         },
         {
          "arrowcolor": "gray",
          "arrowhead": 2,
          "arrowsize": 1,
          "arrowwidth": 1.5,
          "ax": "GENIE v3 hA empirical 2p2h",
          "axref": "x",
          "ay": 98.5293,
          "ayref": "y",
          "showarrow": true,
          "x": "GENIE v3 hA empirical 2p2h",
          "xref": "x",
          "y": 84.4242,
          "yref": "y"
         },
         {
          "arrowcolor": "gray",
          "arrowhead": 2,
          "arrowsize": 1,
          "arrowwidth": 1.5,
          "ax": "GENIE v3 hN empirical 2p2h",
          "axref": "x",
          "ay": 61.1638,
          "ayref": "y",
          "showarrow": true,
          "x": "GENIE v3 hN empirical 2p2h",
          "xref": "x",
          "y": 54.3024,
          "yref": "y"
         },
         {
          "arrowcolor": "gray",
          "arrowhead": 2,
          "arrowsize": 1,
          "arrowwidth": 1.5,
          "ax": "GiBUU",
          "axref": "x",
          "ay": 73.8266,
          "ayref": "y",
          "showarrow": true,
          "x": "GiBUU",
          "xref": "x",
          "y": 75.8346,
          "yref": "y"
         },
         {
          "arrowcolor": "gray",
          "arrowhead": 2,
          "arrowsize": 1,
          "arrowwidth": 1.5,
          "ax": "NEUT LFG",
          "axref": "x",
          "ay": 67.7611,
          "ayref": "y",
          "showarrow": true,
          "x": "NEUT LFG",
          "xref": "x",
          "y": 65.5476,
          "yref": "y"
         },
         {
          "arrowcolor": "gray",
          "arrowhead": 2,
          "arrowsize": 1,
          "arrowwidth": 1.5,
          "ax": "NEUT SF",
          "axref": "x",
          "ay": 69.0038,
          "ayref": "y",
          "showarrow": true,
          "x": "NEUT SF",
          "xref": "x",
          "y": 66.8736,
          "yref": "y"
         },
         {
          "arrowcolor": "gray",
          "arrowhead": 2,
          "arrowsize": 1,
          "arrowwidth": 1.5,
          "ax": "NuWro LFG",
          "axref": "x",
          "ay": 89.9854,
          "ayref": "y",
          "showarrow": true,
          "x": "NuWro LFG",
          "xref": "x",
          "y": 78.3682,
          "yref": "y"
         },
         {
          "arrowcolor": "gray",
          "arrowhead": 2,
          "arrowsize": 1,
          "arrowwidth": 1.5,
          "ax": "NuWro SF",
          "axref": "x",
          "ay": 88.8344,
          "ayref": "y",
          "showarrow": true,
          "x": "NuWro SF",
          "xref": "x",
          "y": 76.4871,
          "yref": "y"
         }
        ],
        "autosize": false,
        "height": 800,
        "legend": {
         "title": {
          "text": "Series"
         }
        },
        "paper_bgcolor": "white",
        "plot_bgcolor": "white",
        "template": {
         "data": {
          "bar": [
           {
            "error_x": {
             "color": "#2a3f5f"
            },
            "error_y": {
             "color": "#2a3f5f"
            },
            "marker": {
             "line": {
              "color": "#E5ECF6",
              "width": 0.5
             },
             "pattern": {
              "fillmode": "overlay",
              "size": 10,
              "solidity": 0.2
             }
            },
            "type": "bar"
           }
          ],
          "barpolar": [
           {
            "marker": {
             "line": {
              "color": "#E5ECF6",
              "width": 0.5
             },
             "pattern": {
              "fillmode": "overlay",
              "size": 10,
              "solidity": 0.2
             }
            },
            "type": "barpolar"
           }
          ],
          "carpet": [
           {
            "aaxis": {
             "endlinecolor": "#2a3f5f",
             "gridcolor": "white",
             "linecolor": "white",
             "minorgridcolor": "white",
             "startlinecolor": "#2a3f5f"
            },
            "baxis": {
             "endlinecolor": "#2a3f5f",
             "gridcolor": "white",
             "linecolor": "white",
             "minorgridcolor": "white",
             "startlinecolor": "#2a3f5f"
            },
            "type": "carpet"
           }
          ],
          "choropleth": [
           {
            "colorbar": {
             "outlinewidth": 0,
             "ticks": ""
            },
            "type": "choropleth"
           }
          ],
          "contour": [
           {
            "colorbar": {
             "outlinewidth": 0,
             "ticks": ""
            },
            "colorscale": [
             [
              0,
              "#0d0887"
             ],
             [
              0.1111111111111111,
              "#46039f"
             ],
             [
              0.2222222222222222,
              "#7201a8"
             ],
             [
              0.3333333333333333,
              "#9c179e"
             ],
             [
              0.4444444444444444,
              "#bd3786"
             ],
             [
              0.5555555555555556,
              "#d8576b"
             ],
             [
              0.6666666666666666,
              "#ed7953"
             ],
             [
              0.7777777777777778,
              "#fb9f3a"
             ],
             [
              0.8888888888888888,
              "#fdca26"
             ],
             [
              1,
              "#f0f921"
             ]
            ],
            "type": "contour"
           }
          ],
          "contourcarpet": [
           {
            "colorbar": {
             "outlinewidth": 0,
             "ticks": ""
            },
            "type": "contourcarpet"
           }
          ],
          "heatmap": [
           {
            "colorbar": {
             "outlinewidth": 0,
             "ticks": ""
            },
            "colorscale": [
             [
              0,
              "#0d0887"
             ],
             [
              0.1111111111111111,
              "#46039f"
             ],
             [
              0.2222222222222222,
              "#7201a8"
             ],
             [
              0.3333333333333333,
              "#9c179e"
             ],
             [
              0.4444444444444444,
              "#bd3786"
             ],
             [
              0.5555555555555556,
              "#d8576b"
             ],
             [
              0.6666666666666666,
              "#ed7953"
             ],
             [
              0.7777777777777778,
              "#fb9f3a"
             ],
             [
              0.8888888888888888,
              "#fdca26"
             ],
             [
              1,
              "#f0f921"
             ]
            ],
            "type": "heatmap"
           }
          ],
          "heatmapgl": [
           {
            "colorbar": {
             "outlinewidth": 0,
             "ticks": ""
            },
            "colorscale": [
             [
              0,
              "#0d0887"
             ],
             [
              0.1111111111111111,
              "#46039f"
             ],
             [
              0.2222222222222222,
              "#7201a8"
             ],
             [
              0.3333333333333333,
              "#9c179e"
             ],
             [
              0.4444444444444444,
              "#bd3786"
             ],
             [
              0.5555555555555556,
              "#d8576b"
             ],
             [
              0.6666666666666666,
              "#ed7953"
             ],
             [
              0.7777777777777778,
              "#fb9f3a"
             ],
             [
              0.8888888888888888,
              "#fdca26"
             ],
             [
              1,
              "#f0f921"
             ]
            ],
            "type": "heatmapgl"
           }
          ],
          "histogram": [
           {
            "marker": {
             "pattern": {
              "fillmode": "overlay",
              "size": 10,
              "solidity": 0.2
             }
            },
            "type": "histogram"
           }
          ],
          "histogram2d": [
           {
            "colorbar": {
             "outlinewidth": 0,
             "ticks": ""
            },
            "colorscale": [
             [
              0,
              "#0d0887"
             ],
             [
              0.1111111111111111,
              "#46039f"
             ],
             [
              0.2222222222222222,
              "#7201a8"
             ],
             [
              0.3333333333333333,
              "#9c179e"
             ],
             [
              0.4444444444444444,
              "#bd3786"
             ],
             [
              0.5555555555555556,
              "#d8576b"
             ],
             [
              0.6666666666666666,
              "#ed7953"
             ],
             [
              0.7777777777777778,
              "#fb9f3a"
             ],
             [
              0.8888888888888888,
              "#fdca26"
             ],
             [
              1,
              "#f0f921"
             ]
            ],
            "type": "histogram2d"
           }
          ],
          "histogram2dcontour": [
           {
            "colorbar": {
             "outlinewidth": 0,
             "ticks": ""
            },
            "colorscale": [
             [
              0,
              "#0d0887"
             ],
             [
              0.1111111111111111,
              "#46039f"
             ],
             [
              0.2222222222222222,
              "#7201a8"
             ],
             [
              0.3333333333333333,
              "#9c179e"
             ],
             [
              0.4444444444444444,
              "#bd3786"
             ],
             [
              0.5555555555555556,
              "#d8576b"
             ],
             [
              0.6666666666666666,
              "#ed7953"
             ],
             [
              0.7777777777777778,
              "#fb9f3a"
             ],
             [
              0.8888888888888888,
              "#fdca26"
             ],
             [
              1,
              "#f0f921"
             ]
            ],
            "type": "histogram2dcontour"
           }
          ],
          "mesh3d": [
           {
            "colorbar": {
             "outlinewidth": 0,
             "ticks": ""
            },
            "type": "mesh3d"
           }
          ],
          "parcoords": [
           {
            "line": {
             "colorbar": {
              "outlinewidth": 0,
              "ticks": ""
             }
            },
            "type": "parcoords"
           }
          ],
          "pie": [
           {
            "automargin": true,
            "type": "pie"
           }
          ],
          "scatter": [
           {
            "fillpattern": {
             "fillmode": "overlay",
             "size": 10,
             "solidity": 0.2
            },
            "type": "scatter"
           }
          ],
          "scatter3d": [
           {
            "line": {
             "colorbar": {
              "outlinewidth": 0,
              "ticks": ""
             }
            },
            "marker": {
             "colorbar": {
              "outlinewidth": 0,
              "ticks": ""
             }
            },
            "type": "scatter3d"
           }
          ],
          "scattercarpet": [
           {
            "marker": {
             "colorbar": {
              "outlinewidth": 0,
              "ticks": ""
             }
            },
            "type": "scattercarpet"
           }
          ],
          "scattergeo": [
           {
            "marker": {
             "colorbar": {
              "outlinewidth": 0,
              "ticks": ""
             }
            },
            "type": "scattergeo"
           }
          ],
          "scattergl": [
           {
            "marker": {
             "colorbar": {
              "outlinewidth": 0,
              "ticks": ""
             }
            },
            "type": "scattergl"
           }
          ],
          "scattermapbox": [
           {
            "marker": {
             "colorbar": {
              "outlinewidth": 0,
              "ticks": ""
             }
            },
            "type": "scattermapbox"
           }
          ],
          "scatterpolar": [
           {
            "marker": {
             "colorbar": {
              "outlinewidth": 0,
              "ticks": ""
             }
            },
            "type": "scatterpolar"
           }
          ],
          "scatterpolargl": [
           {
            "marker": {
             "colorbar": {
              "outlinewidth": 0,
              "ticks": ""
             }
            },
            "type": "scatterpolargl"
           }
          ],
          "scatterternary": [
           {
            "marker": {
             "colorbar": {
              "outlinewidth": 0,
              "ticks": ""
             }
            },
            "type": "scatterternary"
           }
          ],
          "surface": [
           {
            "colorbar": {
             "outlinewidth": 0,
             "ticks": ""
            },
            "colorscale": [
             [
              0,
              "#0d0887"
             ],
             [
              0.1111111111111111,
              "#46039f"
             ],
             [
              0.2222222222222222,
              "#7201a8"
             ],
             [
              0.3333333333333333,
              "#9c179e"
             ],
             [
              0.4444444444444444,
              "#bd3786"
             ],
             [
              0.5555555555555556,
              "#d8576b"
             ],
             [
              0.6666666666666666,
              "#ed7953"
             ],
             [
              0.7777777777777778,
              "#fb9f3a"
             ],
             [
              0.8888888888888888,
              "#fdca26"
             ],
             [
              1,
              "#f0f921"
             ]
            ],
            "type": "surface"
           }
          ],
          "table": [
           {
            "cells": {
             "fill": {
              "color": "#EBF0F8"
             },
             "line": {
              "color": "white"
             }
            },
            "header": {
             "fill": {
              "color": "#C8D4E3"
             },
             "line": {
              "color": "white"
             }
            },
            "type": "table"
           }
          ]
         },
         "layout": {
          "annotationdefaults": {
           "arrowcolor": "#2a3f5f",
           "arrowhead": 0,
           "arrowwidth": 1
          },
          "autotypenumbers": "strict",
          "coloraxis": {
           "colorbar": {
            "outlinewidth": 0,
            "ticks": ""
           }
          },
          "colorscale": {
           "diverging": [
            [
             0,
             "#8e0152"
            ],
            [
             0.1,
             "#c51b7d"
            ],
            [
             0.2,
             "#de77ae"
            ],
            [
             0.3,
             "#f1b6da"
            ],
            [
             0.4,
             "#fde0ef"
            ],
            [
             0.5,
             "#f7f7f7"
            ],
            [
             0.6,
             "#e6f5d0"
            ],
            [
             0.7,
             "#b8e186"
            ],
            [
             0.8,
             "#7fbc41"
            ],
            [
             0.9,
             "#4d9221"
            ],
            [
             1,
             "#276419"
            ]
           ],
           "sequential": [
            [
             0,
             "#0d0887"
            ],
            [
             0.1111111111111111,
             "#46039f"
            ],
            [
             0.2222222222222222,
             "#7201a8"
            ],
            [
             0.3333333333333333,
             "#9c179e"
            ],
            [
             0.4444444444444444,
             "#bd3786"
            ],
            [
             0.5555555555555556,
             "#d8576b"
            ],
            [
             0.6666666666666666,
             "#ed7953"
            ],
            [
             0.7777777777777778,
             "#fb9f3a"
            ],
            [
             0.8888888888888888,
             "#fdca26"
            ],
            [
             1,
             "#f0f921"
            ]
           ],
           "sequentialminus": [
            [
             0,
             "#0d0887"
            ],
            [
             0.1111111111111111,
             "#46039f"
            ],
            [
             0.2222222222222222,
             "#7201a8"
            ],
            [
             0.3333333333333333,
             "#9c179e"
            ],
            [
             0.4444444444444444,
             "#bd3786"
            ],
            [
             0.5555555555555556,
             "#d8576b"
            ],
            [
             0.6666666666666666,
             "#ed7953"
            ],
            [
             0.7777777777777778,
             "#fb9f3a"
            ],
            [
             0.8888888888888888,
             "#fdca26"
            ],
            [
             1,
             "#f0f921"
            ]
           ]
          },
          "colorway": [
           "#636efa",
           "#EF553B",
           "#00cc96",
           "#ab63fa",
           "#FFA15A",
           "#19d3f3",
           "#FF6692",
           "#B6E880",
           "#FF97FF",
           "#FECB52"
          ],
          "font": {
           "color": "#2a3f5f"
          },
          "geo": {
           "bgcolor": "white",
           "lakecolor": "white",
           "landcolor": "#E5ECF6",
           "showlakes": true,
           "showland": true,
           "subunitcolor": "white"
          },
          "hoverlabel": {
           "align": "left"
          },
          "hovermode": "closest",
          "mapbox": {
           "style": "light"
          },
          "paper_bgcolor": "white",
          "plot_bgcolor": "#E5ECF6",
          "polar": {
           "angularaxis": {
            "gridcolor": "white",
            "linecolor": "white",
            "ticks": ""
           },
           "bgcolor": "#E5ECF6",
           "radialaxis": {
            "gridcolor": "white",
            "linecolor": "white",
            "ticks": ""
           }
          },
          "scene": {
           "xaxis": {
            "backgroundcolor": "#E5ECF6",
            "gridcolor": "white",
            "gridwidth": 2,
            "linecolor": "white",
            "showbackground": true,
            "ticks": "",
            "zerolinecolor": "white"
           },
           "yaxis": {
            "backgroundcolor": "#E5ECF6",
            "gridcolor": "white",
            "gridwidth": 2,
            "linecolor": "white",
            "showbackground": true,
            "ticks": "",
            "zerolinecolor": "white"
           },
           "zaxis": {
            "backgroundcolor": "#E5ECF6",
            "gridcolor": "white",
            "gridwidth": 2,
            "linecolor": "white",
            "showbackground": true,
            "ticks": "",
            "zerolinecolor": "white"
           }
          },
          "shapedefaults": {
           "line": {
            "color": "#2a3f5f"
           }
          },
          "ternary": {
           "aaxis": {
            "gridcolor": "white",
            "linecolor": "white",
            "ticks": ""
           },
           "baxis": {
            "gridcolor": "white",
            "linecolor": "white",
            "ticks": ""
           },
           "bgcolor": "#E5ECF6",
           "caxis": {
            "gridcolor": "white",
            "linecolor": "white",
            "ticks": ""
           }
          },
          "title": {
           "x": 0.05
          },
          "xaxis": {
           "automargin": true,
           "gridcolor": "white",
           "linecolor": "white",
           "ticks": "",
           "title": {
            "standoff": 15
           },
           "zerolinecolor": "white",
           "zerolinewidth": 2
          },
          "yaxis": {
           "automargin": true,
           "gridcolor": "white",
           "linecolor": "white",
           "ticks": "",
           "title": {
            "standoff": 15
           },
           "zerolinecolor": "white",
           "zerolinewidth": 2
          }
         }
        },
        "title": {
         "text": "Tpi Log Normal Chi2"
        },
        "width": 700,
        "xaxis": {
         "autorange": true,
         "gridcolor": "lightgray",
         "linecolor": "black",
         "range": [
          -0.5067911714770799,
          7.506791171477079
         ],
         "showgrid": true,
         "tickmode": "linear",
         "title": {
          "text": "Models"
         },
         "type": "category"
        },
        "yaxis": {
         "autorange": false,
         "gridcolor": "lightgray",
         "linecolor": "black",
         "range": [
          0,
          164.2245
         ],
         "showgrid": true,
         "title": {
          "text": "Log Norm Chi2"
         },
         "type": "linear"
        }
       }
      },
      "image/png": "[encoded data removed]",
      "text/html": [
       "<div>                            <div id=\"998a49fb-61ff-4565-9b2d-c787c99f5b80\" class=\"plotly-graph-div\" style=\"height:800px; width:100%;\"></div>            <script type=\"text/javascript\">                require([\"plotly\"], function(Plotly) {                    window.PLOTLYENV=window.PLOTLYENV || {};                                    if (document.getElementById(\"998a49fb-61ff-4565-9b2d-c787c99f5b80\")) {                    Plotly.newPlot(                        \"998a49fb-61ff-4565-9b2d-c787c99f5b80\",                        [{\"marker\":{\"color\":\"rgb(31, 119, 180)\",\"size\":10},\"mode\":\"markers\",\"name\":\"Tpi - no syst\",\"x\":[\"GENIE v2.12.6\",\"GENIE v3 hA empirical 2p2h\",\"GENIE v3 hN empirical 2p2h\",\"GiBUU\",\"NEUT LFG\",\"NEUT SF\",\"NuWro LFG\",\"NuWro SF\"],\"y\":[149.295,98.5293,61.1638,73.8266,67.7611,69.0038,89.9854,88.8344],\"type\":\"scatter\"},{\"marker\":{\"color\":\"rgb(255, 127, 14)\",\"size\":10},\"mode\":\"markers\",\"name\":\"Tpi - syst\",\"x\":[\"GENIE v2.12.6\",\"GENIE v3 hA empirical 2p2h\",\"GENIE v3 hN empirical 2p2h\",\"GiBUU\",\"NEUT LFG\",\"NEUT SF\",\"NuWro LFG\",\"NuWro SF\"],\"y\":[100.912,84.4242,54.3024,75.8346,65.5476,66.8736,78.3682,76.4871],\"type\":\"scatter\"}],                        {\"template\":{\"data\":{\"histogram2dcontour\":[{\"type\":\"histogram2dcontour\",\"colorbar\":{\"outlinewidth\":0,\"ticks\":\"\"},\"colorscale\":[[0.0,\"#0d0887\"],[0.1111111111111111,\"#46039f\"],[0.2222222222222222,\"#7201a8\"],[0.3333333333333333,\"#9c179e\"],[0.4444444444444444,\"#bd3786\"],[0.5555555555555556,\"#d8576b\"],[0.6666666666666666,\"#ed7953\"],[0.7777777777777778,\"#fb9f3a\"],[0.8888888888888888,\"#fdca26\"],[1.0,\"#f0f921\"]]}],\"choropleth\":[{\"type\":\"choropleth\",\"colorbar\":{\"outlinewidth\":0,\"ticks\":\"\"}}],\"histogram2d\":[{\"type\":\"histogram2d\",\"colorbar\":{\"outlinewidth\":0,\"ticks\":\"\"},\"colorscale\":[[0.0,\"#0d0887\"],[0.1111111111111111,\"#46039f\"],[0.2222222222222222,\"#7201a8\"],[0.3333333333333333,\"#9c179e\"],[0.4444444444444444,\"#bd3786\"],[0.5555555555555556,\"#d8576b\"],[0.6666666666666666,\"#ed7953\"],[0.7777777777777778,\"#fb9f3a\"],[0.8888888888888888,\"#fdca26\"],[1.0,\"#f0f921\"]]}],\"heatmap\":[{\"type\":\"heatmap\",\"colorbar\":{\"outlinewidth\":0,\"ticks\":\"\"},\"colorscale\":[[0.0,\"#0d0887\"],[0.1111111111111111,\"#46039f\"],[0.2222222222222222,\"#7201a8\"],[0.3333333333333333,\"#9c179e\"],[0.4444444444444444,\"#bd3786\"],[0.5555555555555556,\"#d8576b\"],[0.6666666666666666,\"#ed7953\"],[0.7777777777777778,\"#fb9f3a\"],[0.8888888888888888,\"#fdca26\"],[1.0,\"#f0f921\"]]}],\"heatmapgl\":[{\"type\":\"heatmapgl\",\"colorbar\":{\"outlinewidth\":0,\"ticks\":\"\"},\"colorscale\":[[0.0,\"#0d0887\"],[0.1111111111111111,\"#46039f\"],[0.2222222222222222,\"#7201a8\"],[0.3333333333333333,\"#9c179e\"],[0.4444444444444444,\"#bd3786\"],[0.5555555555555556,\"#d8576b\"],[0.6666666666666666,\"#ed7953\"],[0.7777777777777778,\"#fb9f3a\"],[0.8888888888888888,\"#fdca26\"],[1.0,\"#f0f921\"]]}],\"contourcarpet\":[{\"type\":\"contourcarpet\",\"colorbar\":{\"outlinewidth\":0,\"ticks\":\"\"}}],\"contour\":[{\"type\":\"contour\",\"colorbar\":{\"outlinewidth\":0,\"ticks\":\"\"},\"colorscale\":[[0.0,\"#0d0887\"],[0.1111111111111111,\"#46039f\"],[0.2222222222222222,\"#7201a8\"],[0.3333333333333333,\"#9c179e\"],[0.4444444444444444,\"#bd3786\"],[0.5555555555555556,\"#d8576b\"],[0.6666666666666666,\"#ed7953\"],[0.7777777777777778,\"#fb9f3a\"],[0.8888888888888888,\"#fdca26\"],[1.0,\"#f0f921\"]]}],\"surface\":[{\"type\":\"surface\",\"colorbar\":{\"outlinewidth\":0,\"ticks\":\"\"},\"colorscale\":[[0.0,\"#0d0887\"],[0.1111111111111111,\"#46039f\"],[0.2222222222222222,\"#7201a8\"],[0.3333333333333333,\"#9c179e\"],[0.4444444444444444,\"#bd3786\"],[0.5555555555555556,\"#d8576b\"],[0.6666666666666666,\"#ed7953\"],[0.7777777777777778,\"#fb9f3a\"],[0.8888888888888888,\"#fdca26\"],[1.0,\"#f0f921\"]]}],\"mesh3d\":[{\"type\":\"mesh3d\",\"colorbar\":{\"outlinewidth\":0,\"ticks\":\"\"}}],\"scatter\":[{\"fillpattern\":{\"fillmode\":\"overlay\",\"size\":10,\"solidity\":0.2},\"type\":\"scatter\"}],\"parcoords\":[{\"type\":\"parcoords\",\"line\":{\"colorbar\":{\"outlinewidth\":0,\"ticks\":\"\"}}}],\"scatterpolargl\":[{\"type\":\"scatterpolargl\",\"marker\":{\"colorbar\":{\"outlinewidth\":0,\"ticks\":\"\"}}}],\"bar\":[{\"error_x\":{\"color\":\"#2a3f5f\"},\"error_y\":{\"color\":\"#2a3f5f\"},\"marker\":{\"line\":{\"color\":\"#E5ECF6\",\"width\":0.5},\"pattern\":{\"fillmode\":\"overlay\",\"size\":10,\"solidity\":0.2}},\"type\":\"bar\"}],\"scattergeo\":[{\"type\":\"scattergeo\",\"marker\":{\"colorbar\":{\"outlinewidth\":0,\"ticks\":\"\"}}}],\"scatterpolar\":[{\"type\":\"scatterpolar\",\"marker\":{\"colorbar\":{\"outlinewidth\":0,\"ticks\":\"\"}}}],\"histogram\":[{\"marker\":{\"pattern\":{\"fillmode\":\"overlay\",\"size\":10,\"solidity\":0.2}},\"type\":\"histogram\"}],\"scattergl\":[{\"type\":\"scattergl\",\"marker\":{\"colorbar\":{\"outlinewidth\":0,\"ticks\":\"\"}}}],\"scatter3d\":[{\"type\":\"scatter3d\",\"line\":{\"colorbar\":{\"outlinewidth\":0,\"ticks\":\"\"}},\"marker\":{\"colorbar\":{\"outlinewidth\":0,\"ticks\":\"\"}}}],\"scattermapbox\":[{\"type\":\"scattermapbox\",\"marker\":{\"colorbar\":{\"outlinewidth\":0,\"ticks\":\"\"}}}],\"scatterternary\":[{\"type\":\"scatterternary\",\"marker\":{\"colorbar\":{\"outlinewidth\":0,\"ticks\":\"\"}}}],\"scattercarpet\":[{\"type\":\"scattercarpet\",\"marker\":{\"colorbar\":{\"outlinewidth\":0,\"ticks\":\"\"}}}],\"carpet\":[{\"aaxis\":{\"endlinecolor\":\"#2a3f5f\",\"gridcolor\":\"white\",\"linecolor\":\"white\",\"minorgridcolor\":\"white\",\"startlinecolor\":\"#2a3f5f\"},\"baxis\":{\"endlinecolor\":\"#2a3f5f\",\"gridcolor\":\"white\",\"linecolor\":\"white\",\"minorgridcolor\":\"white\",\"startlinecolor\":\"#2a3f5f\"},\"type\":\"carpet\"}],\"table\":[{\"cells\":{\"fill\":{\"color\":\"#EBF0F8\"},\"line\":{\"color\":\"white\"}},\"header\":{\"fill\":{\"color\":\"#C8D4E3\"},\"line\":{\"color\":\"white\"}},\"type\":\"table\"}],\"barpolar\":[{\"marker\":{\"line\":{\"color\":\"#E5ECF6\",\"width\":0.5},\"pattern\":{\"fillmode\":\"overlay\",\"size\":10,\"solidity\":0.2}},\"type\":\"barpolar\"}],\"pie\":[{\"automargin\":true,\"type\":\"pie\"}]},\"layout\":{\"autotypenumbers\":\"strict\",\"colorway\":[\"#636efa\",\"#EF553B\",\"#00cc96\",\"#ab63fa\",\"#FFA15A\",\"#19d3f3\",\"#FF6692\",\"#B6E880\",\"#FF97FF\",\"#FECB52\"],\"font\":{\"color\":\"#2a3f5f\"},\"hovermode\":\"closest\",\"hoverlabel\":{\"align\":\"left\"},\"paper_bgcolor\":\"white\",\"plot_bgcolor\":\"#E5ECF6\",\"polar\":{\"bgcolor\":\"#E5ECF6\",\"angularaxis\":{\"gridcolor\":\"white\",\"linecolor\":\"white\",\"ticks\":\"\"},\"radialaxis\":{\"gridcolor\":\"white\",\"linecolor\":\"white\",\"ticks\":\"\"}},\"ternary\":{\"bgcolor\":\"#E5ECF6\",\"aaxis\":{\"gridcolor\":\"white\",\"linecolor\":\"white\",\"ticks\":\"\"},\"baxis\":{\"gridcolor\":\"white\",\"linecolor\":\"white\",\"ticks\":\"\"},\"caxis\":{\"gridcolor\":\"white\",\"linecolor\":\"white\",\"ticks\":\"\"}},\"coloraxis\":{\"colorbar\":{\"outlinewidth\":0,\"ticks\":\"\"}},\"colorscale\":{\"sequential\":[[0.0,\"#0d0887\"],[0.1111111111111111,\"#46039f\"],[0.2222222222222222,\"#7201a8\"],[0.3333333333333333,\"#9c179e\"],[0.4444444444444444,\"#bd3786\"],[0.5555555555555556,\"#d8576b\"],[0.6666666666666666,\"#ed7953\"],[0.7777777777777778,\"#fb9f3a\"],[0.8888888888888888,\"#fdca26\"],[1.0,\"#f0f921\"]],\"sequentialminus\":[[0.0,\"#0d0887\"],[0.1111111111111111,\"#46039f\"],[0.2222222222222222,\"#7201a8\"],[0.3333333333333333,\"#9c179e\"],[0.4444444444444444,\"#bd3786\"],[0.5555555555555556,\"#d8576b\"],[0.6666666666666666,\"#ed7953\"],[0.7777777777777778,\"#fb9f3a\"],[0.8888888888888888,\"#fdca26\"],[1.0,\"#f0f921\"]],\"diverging\":[[0,\"#8e0152\"],[0.1,\"#c51b7d\"],[0.2,\"#de77ae\"],[0.3,\"#f1b6da\"],[0.4,\"#fde0ef\"],[0.5,\"#f7f7f7\"],[0.6,\"#e6f5d0\"],[0.7,\"#b8e186\"],[0.8,\"#7fbc41\"],[0.9,\"#4d9221\"],[1,\"#276419\"]]},\"xaxis\":{\"gridcolor\":\"white\",\"linecolor\":\"white\",\"ticks\":\"\",\"title\":{\"standoff\":15},\"zerolinecolor\":\"white\",\"automargin\":true,\"zerolinewidth\":2},\"yaxis\":{\"gridcolor\":\"white\",\"linecolor\":\"white\",\"ticks\":\"\",\"title\":{\"standoff\":15},\"zerolinecolor\":\"white\",\"automargin\":true,\"zerolinewidth\":2},\"scene\":{\"xaxis\":{\"backgroundcolor\":\"#E5ECF6\",\"gridcolor\":\"white\",\"linecolor\":\"white\",\"showbackground\":true,\"ticks\":\"\",\"zerolinecolor\":\"white\",\"gridwidth\":2},\"yaxis\":{\"backgroundcolor\":\"#E5ECF6\",\"gridcolor\":\"white\",\"linecolor\":\"white\",\"showbackground\":true,\"ticks\":\"\",\"zerolinecolor\":\"white\",\"gridwidth\":2},\"zaxis\":{\"backgroundcolor\":\"#E5ECF6\",\"gridcolor\":\"white\",\"linecolor\":\"white\",\"showbackground\":true,\"ticks\":\"\",\"zerolinecolor\":\"white\",\"gridwidth\":2}},\"shapedefaults\":{\"line\":{\"color\":\"#2a3f5f\"}},\"annotationdefaults\":{\"arrowcolor\":\"#2a3f5f\",\"arrowhead\":0,\"arrowwidth\":1},\"geo\":{\"bgcolor\":\"white\",\"landcolor\":\"#E5ECF6\",\"subunitcolor\":\"white\",\"showland\":true,\"showlakes\":true,\"lakecolor\":\"white\"},\"title\":{\"x\":0.05},\"mapbox\":{\"style\":\"light\"}}},\"annotations\":[{\"arrowcolor\":\"gray\",\"arrowhead\":2,\"arrowsize\":1,\"arrowwidth\":1.5,\"ax\":\"GENIE v2.12.6\",\"axref\":\"x\",\"ay\":149.295,\"ayref\":\"y\",\"showarrow\":true,\"x\":\"GENIE v2.12.6\",\"xref\":\"x\",\"y\":100.912,\"yref\":\"y\"},{\"arrowcolor\":\"gray\",\"arrowhead\":2,\"arrowsize\":1,\"arrowwidth\":1.5,\"ax\":\"GENIE v3 hA empirical 2p2h\",\"axref\":\"x\",\"ay\":98.5293,\"ayref\":\"y\",\"showarrow\":true,\"x\":\"GENIE v3 hA empirical 2p2h\",\"xref\":\"x\",\"y\":84.4242,\"yref\":\"y\"},{\"arrowcolor\":\"gray\",\"arrowhead\":2,\"arrowsize\":1,\"arrowwidth\":1.5,\"ax\":\"GENIE v3 hN empirical 2p2h\",\"axref\":\"x\",\"ay\":61.1638,\"ayref\":\"y\",\"showarrow\":true,\"x\":\"GENIE v3 hN empirical 2p2h\",\"xref\":\"x\",\"y\":54.3024,\"yref\":\"y\"},{\"arrowcolor\":\"gray\",\"arrowhead\":2,\"arrowsize\":1,\"arrowwidth\":1.5,\"ax\":\"GiBUU\",\"axref\":\"x\",\"ay\":73.8266,\"ayref\":\"y\",\"showarrow\":true,\"x\":\"GiBUU\",\"xref\":\"x\",\"y\":75.8346,\"yref\":\"y\"},{\"arrowcolor\":\"gray\",\"arrowhead\":2,\"arrowsize\":1,\"arrowwidth\":1.5,\"ax\":\"NEUT LFG\",\"axref\":\"x\",\"ay\":67.7611,\"ayref\":\"y\",\"showarrow\":true,\"x\":\"NEUT LFG\",\"xref\":\"x\",\"y\":65.5476,\"yref\":\"y\"},{\"arrowcolor\":\"gray\",\"arrowhead\":2,\"arrowsize\":1,\"arrowwidth\":1.5,\"ax\":\"NEUT SF\",\"axref\":\"x\",\"ay\":69.0038,\"ayref\":\"y\",\"showarrow\":true,\"x\":\"NEUT SF\",\"xref\":\"x\",\"y\":66.8736,\"yref\":\"y\"},{\"arrowcolor\":\"gray\",\"arrowhead\":2,\"arrowsize\":1,\"arrowwidth\":1.5,\"ax\":\"NuWro LFG\",\"axref\":\"x\",\"ay\":89.9854,\"ayref\":\"y\",\"showarrow\":true,\"x\":\"NuWro LFG\",\"xref\":\"x\",\"y\":78.3682,\"yref\":\"y\"},{\"arrowcolor\":\"gray\",\"arrowhead\":2,\"arrowsize\":1,\"arrowwidth\":1.5,\"ax\":\"NuWro SF\",\"axref\":\"x\",\"ay\":88.8344,\"ayref\":\"y\",\"showarrow\":true,\"x\":\"NuWro SF\",\"xref\":\"x\",\"y\":76.4871,\"yref\":\"y\"}],\"xaxis\":{\"title\":{\"text\":\"Models\"},\"tickmode\":\"linear\",\"showgrid\":true,\"gridcolor\":\"lightgray\",\"linecolor\":\"black\"},\"yaxis\":{\"title\":{\"text\":\"Log Norm Chi2\"},\"range\":[0,164.2245],\"autorange\":false,\"showgrid\":true,\"gridcolor\":\"lightgray\",\"linecolor\":\"black\"},\"title\":{\"text\":\"Tpi Log Normal Chi2\"},\"legend\":{\"title\":{\"text\":\"Series\"}},\"height\":800,\"autosize\":false,\"plot_bgcolor\":\"white\",\"paper_bgcolor\":\"white\"},                        {\"responsive\": true}                    ).then(function(){\n",
       "                            \n",
       "var gd = document.getElementById('998a49fb-61ff-4565-9b2d-c787c99f5b80');\n",
       "var x = new MutationObserver(function (mutations, observer) {{\n",
       "        var display = window.getComputedStyle(gd).display;\n",
       "        if (!display || display === 'none') {{\n",
       "            console.log([gd, 'removed!']);\n",
       "            Plotly.purge(gd);\n",
       "            observer.disconnect();\n",
       "        }}\n",
       "}});\n",
       "\n",
       "// Listen for the removal of the full notebook cells\n",
       "var notebookContainer = gd.closest('#notebook-container');\n",
       "if (notebookContainer) {{\n",
       "    x.observe(notebookContainer, {childList: true});\n",
       "}}\n",
       "\n",
       "// Listen for the clearing of the current output cell\n",
       "var outputEl = gd.closest('.output');\n",
       "if (outputEl) {{\n",
       "    x.observe(outputEl, {childList: true});\n",
       "}}\n",
       "\n",
       "                        })                };                });            </script>        </div>"
      ]
     },
     "metadata": {},
     "output_type": "display_data"
    }
   ],
   "source": [
    "plot_chi2s_by_variable(data, \"Tpi\")"
   ]
  },
  {
   "cell_type": "code",
   "execution_count": 59,
   "id": "ae1c5601-be7c-4c7b-a857-1c529e89d77d",
   "metadata": {},
   "outputs": [],
   "source": [
    "variables = [\"Tpi\", \"q2\", \"thpi\", \"pmu\", \"pzmu\", \"ptmu\", \"thpi\", \"thmu\"]\n",
    "for v in variables:\n",
    "    plot_together(data, v, show = False, save = True)"
   ]
  },
  {
   "cell_type": "code",
   "execution_count": 60,
   "id": "0d3442cd-42df-4bf8-a77a-0a210add245a",
   "metadata": {},
   "outputs": [],
   "source": [
    "# one plot for each model, x-axis = model, y-axis = log norm chi2\n",
    "import plotly.graph_objs as go\n",
    "\n",
    "def plot_chi2s_by_model(data, model, show=True, save=False):\n",
    "    # Identify variable names by looking for \"logchi2_no_syst\" and \"logchi2_syst\" pairs in columns\n",
    "    variables = sorted(set(col.split('_logchi2')[0] for col in data.columns if 'logchi2' in col))\n",
    "    \n",
    "    fig = go.Figure()\n",
    "\n",
    "    legend_added = {\"no_syst\": False, \"syst\": False} \n",
    "    \n",
    "    # Loop through each variable and plot the \"no_syst\" and \"syst\" points with arrows\n",
    "    for variable in variables:\n",
    "        no_syst = f\"{variable}_logchi2_no_syst\"\n",
    "        syst = f\"{variable}_logchi2_syst\"\n",
    "        \n",
    "        # Check if both columns exist for the variable\n",
    "        if no_syst in data.columns and syst in data.columns:\n",
    "            fig.add_trace(go.Scatter(\n",
    "                x=[variable],  # Single x-point for the variable\n",
    "                y=[data[no_syst][model]],  # Y-point for no syst\n",
    "                mode='markers',\n",
    "                name=\"No syst\",\n",
    "                marker=dict(size=10, color=cs.DEFAULT_PLOTLY_COLORS[0]),\n",
    "                showlegend=not legend_added[\"no_syst\"],\n",
    "            ))\n",
    "            legend_added[\"no_syst\"] = True\n",
    "            fig.add_trace(go.Scatter(\n",
    "                x=[variable],  # Single x-point for the variable\n",
    "                y=[data[syst][model]],  # Y-point for syst\n",
    "                mode='markers',\n",
    "                name=\"Syst\",\n",
    "                marker=dict(size=10, color=cs.DEFAULT_PLOTLY_COLORS[1]),\n",
    "                showlegend=not legend_added[\"syst\"],\n",
    "            ))\n",
    "            legend_added[\"syst\"] = True\n",
    "            \n",
    "            # Draw an arrow from \"no_syst\" to \"syst\" for this variable\n",
    "            fig.add_annotation(\n",
    "                x=variable,  # Variable as the x-point\n",
    "                y=data[syst][model],  # Y-coordinate for syst\n",
    "                ax=variable,  # Same x for arrow start\n",
    "                ay=data[no_syst][model],  # Y-coordinate for no syst\n",
    "                xref=\"x\",\n",
    "                yref=\"y\",\n",
    "                axref=\"x\",\n",
    "                ayref=\"y\",\n",
    "                showarrow=True,\n",
    "                arrowhead=2,\n",
    "                arrowsize=1,\n",
    "                arrowwidth=1.5,\n",
    "                arrowcolor=\"gray\"\n",
    "            )\n",
    "\n",
    "    # Set min and max for y-axis based on all variables for this model\n",
    "    min_value = 0\n",
    "    max_value = data.loc[model, [f\"{v}_logchi2_no_syst\" for v in variables] + [f\"{v}_logchi2_syst\" for v in variables]].max() * 1.1\n",
    "    \n",
    "    # Update layout\n",
    "    fig.update_layout(\n",
    "        title=f\"{model} Log Normal Chi2\",\n",
    "        xaxis_title=\"Variables\",\n",
    "        yaxis_title=\"Log Norm Chi2\",\n",
    "        legend_title=\"Series\",\n",
    "        height=800,\n",
    "        autosize=False,\n",
    "        plot_bgcolor='white',\n",
    "        paper_bgcolor='white',\n",
    "        xaxis=dict(\n",
    "            tickmode='array',\n",
    "            tickvals=variables,\n",
    "            showgrid=True,\n",
    "            gridcolor='lightgray',\n",
    "            linecolor='black'\n",
    "        ),\n",
    "        yaxis=dict(\n",
    "            range=[min_value, max_value],  # Set fixed range\n",
    "            autorange=False,\n",
    "            showgrid=True,\n",
    "            gridcolor='lightgray',\n",
    "            linecolor='black'\n",
    "        )\n",
    "    )\n",
    "    \n",
    "    # Show plot\n",
    "    if show:\n",
    "        fig.show()\n",
    "\n",
    "    # Save plot if required\n",
    "    if save:\n",
    "        fig.write_image(f\"{model}_logchi2_comparison.png\")"
   ]
  },
  {
   "cell_type": "code",
   "execution_count": 61,
   "id": "4fc02216-8c73-400e-9d58-be1af978adc7",
   "metadata": {},
   "outputs": [
    {
     "data": {
      "application/vnd.plotly.v1+json": {
       "config": {
        "plotlyServerURL": "https://plot.ly"
       },
       "data": [
        {
         "marker": {
          "color": "rgb(31, 119, 180)",
          "size": 10
         },
         "mode": "markers",
         "name": "No syst",
         "showlegend": true,
         "type": "scatter",
         "x": [
          "Tpi"
         ],
         "y": [
          73.8266
         ]
        },
        {
         "marker": {
          "color": "rgb(255, 127, 14)",
          "size": 10
         },
         "mode": "markers",
         "name": "Syst",
         "showlegend": true,
         "type": "scatter",
         "x": [
          "Tpi"
         ],
         "y": [
          75.8346
         ]
        },
        {
         "marker": {
          "color": "rgb(31, 119, 180)",
          "size": 10
         },
         "mode": "markers",
         "name": "No syst",
         "showlegend": false,
         "type": "scatter",
         "x": [
          "pmu"
         ],
         "y": [
          35.3492
         ]
        },
        {
         "marker": {
          "color": "rgb(255, 127, 14)",
          "size": 10
         },
         "mode": "markers",
         "name": "Syst",
         "showlegend": false,
         "type": "scatter",
         "x": [
          "pmu"
         ],
         "y": [
          28.6173
         ]
        },
        {
         "marker": {
          "color": "rgb(31, 119, 180)",
          "size": 10
         },
         "mode": "markers",
         "name": "No syst",
         "showlegend": false,
         "type": "scatter",
         "x": [
          "ptmu"
         ],
         "y": [
          34.3516
         ]
        },
        {
         "marker": {
          "color": "rgb(255, 127, 14)",
          "size": 10
         },
         "mode": "markers",
         "name": "Syst",
         "showlegend": false,
         "type": "scatter",
         "x": [
          "ptmu"
         ],
         "y": [
          21.1302
         ]
        },
        {
         "marker": {
          "color": "rgb(31, 119, 180)",
          "size": 10
         },
         "mode": "markers",
         "name": "No syst",
         "showlegend": false,
         "type": "scatter",
         "x": [
          "pzmu"
         ],
         "y": [
          50.9099
         ]
        },
        {
         "marker": {
          "color": "rgb(255, 127, 14)",
          "size": 10
         },
         "mode": "markers",
         "name": "Syst",
         "showlegend": false,
         "type": "scatter",
         "x": [
          "pzmu"
         ],
         "y": [
          40.2687
         ]
        },
        {
         "marker": {
          "color": "rgb(31, 119, 180)",
          "size": 10
         },
         "mode": "markers",
         "name": "No syst",
         "showlegend": false,
         "type": "scatter",
         "x": [
          "q2"
         ],
         "y": [
          24.1675
         ]
        },
        {
         "marker": {
          "color": "rgb(255, 127, 14)",
          "size": 10
         },
         "mode": "markers",
         "name": "Syst",
         "showlegend": false,
         "type": "scatter",
         "x": [
          "q2"
         ],
         "y": [
          18.6837
         ]
        },
        {
         "marker": {
          "color": "rgb(31, 119, 180)",
          "size": 10
         },
         "mode": "markers",
         "name": "No syst",
         "showlegend": false,
         "type": "scatter",
         "x": [
          "thmu"
         ],
         "y": [
          29.4017
         ]
        },
        {
         "marker": {
          "color": "rgb(255, 127, 14)",
          "size": 10
         },
         "mode": "markers",
         "name": "Syst",
         "showlegend": false,
         "type": "scatter",
         "x": [
          "thmu"
         ],
         "y": [
          24.9694
         ]
        },
        {
         "marker": {
          "color": "rgb(31, 119, 180)",
          "size": 10
         },
         "mode": "markers",
         "name": "No syst",
         "showlegend": false,
         "type": "scatter",
         "x": [
          "thpi"
         ],
         "y": [
          3.39854
         ]
        },
        {
         "marker": {
          "color": "rgb(255, 127, 14)",
          "size": 10
         },
         "mode": "markers",
         "name": "Syst",
         "showlegend": false,
         "type": "scatter",
         "x": [
          "thpi"
         ],
         "y": [
          0
         ]
        }
       ],
       "layout": {
        "annotations": [
         {
          "arrowcolor": "gray",
          "arrowhead": 2,
          "arrowsize": 1,
          "arrowwidth": 1.5,
          "ax": "Tpi",
          "axref": "x",
          "ay": 73.8266,
          "ayref": "y",
          "showarrow": true,
          "x": "Tpi",
          "xref": "x",
          "y": 75.8346,
          "yref": "y"
         },
         {
          "arrowcolor": "gray",
          "arrowhead": 2,
          "arrowsize": 1,
          "arrowwidth": 1.5,
          "ax": "pmu",
          "axref": "x",
          "ay": 35.3492,
          "ayref": "y",
          "showarrow": true,
          "x": "pmu",
          "xref": "x",
          "y": 28.6173,
          "yref": "y"
         },
         {
          "arrowcolor": "gray",
          "arrowhead": 2,
          "arrowsize": 1,
          "arrowwidth": 1.5,
          "ax": "ptmu",
          "axref": "x",
          "ay": 34.3516,
          "ayref": "y",
          "showarrow": true,
          "x": "ptmu",
          "xref": "x",
          "y": 21.1302,
          "yref": "y"
         },
         {
          "arrowcolor": "gray",
          "arrowhead": 2,
          "arrowsize": 1,
          "arrowwidth": 1.5,
          "ax": "pzmu",
          "axref": "x",
          "ay": 50.9099,
          "ayref": "y",
          "showarrow": true,
          "x": "pzmu",
          "xref": "x",
          "y": 40.2687,
          "yref": "y"
         },
         {
          "arrowcolor": "gray",
          "arrowhead": 2,
          "arrowsize": 1,
          "arrowwidth": 1.5,
          "ax": "q2",
          "axref": "x",
          "ay": 24.1675,
          "ayref": "y",
          "showarrow": true,
          "x": "q2",
          "xref": "x",
          "y": 18.6837,
          "yref": "y"
         },
         {
          "arrowcolor": "gray",
          "arrowhead": 2,
          "arrowsize": 1,
          "arrowwidth": 1.5,
          "ax": "thmu",
          "axref": "x",
          "ay": 29.4017,
          "ayref": "y",
          "showarrow": true,
          "x": "thmu",
          "xref": "x",
          "y": 24.9694,
          "yref": "y"
         },
         {
          "arrowcolor": "gray",
          "arrowhead": 2,
          "arrowsize": 1,
          "arrowwidth": 1.5,
          "ax": "thpi",
          "axref": "x",
          "ay": 3.39854,
          "ayref": "y",
          "showarrow": true,
          "x": "thpi",
          "xref": "x",
          "y": 0,
          "yref": "y"
         }
        ],
        "autosize": false,
        "height": 800,
        "legend": {
         "title": {
          "text": "Series"
         }
        },
        "paper_bgcolor": "white",
        "plot_bgcolor": "white",
        "template": {
         "data": {
          "bar": [
           {
            "error_x": {
             "color": "#2a3f5f"
            },
            "error_y": {
             "color": "#2a3f5f"
            },
            "marker": {
             "line": {
              "color": "#E5ECF6",
              "width": 0.5
             },
             "pattern": {
              "fillmode": "overlay",
              "size": 10,
              "solidity": 0.2
             }
            },
            "type": "bar"
           }
          ],
          "barpolar": [
           {
            "marker": {
             "line": {
              "color": "#E5ECF6",
              "width": 0.5
             },
             "pattern": {
              "fillmode": "overlay",
              "size": 10,
              "solidity": 0.2
             }
            },
            "type": "barpolar"
           }
          ],
          "carpet": [
           {
            "aaxis": {
             "endlinecolor": "#2a3f5f",
             "gridcolor": "white",
             "linecolor": "white",
             "minorgridcolor": "white",
             "startlinecolor": "#2a3f5f"
            },
            "baxis": {
             "endlinecolor": "#2a3f5f",
             "gridcolor": "white",
             "linecolor": "white",
             "minorgridcolor": "white",
             "startlinecolor": "#2a3f5f"
            },
            "type": "carpet"
           }
          ],
          "choropleth": [
           {
            "colorbar": {
             "outlinewidth": 0,
             "ticks": ""
            },
            "type": "choropleth"
           }
          ],
          "contour": [
           {
            "colorbar": {
             "outlinewidth": 0,
             "ticks": ""
            },
            "colorscale": [
             [
              0,
              "#0d0887"
             ],
             [
              0.1111111111111111,
              "#46039f"
             ],
             [
              0.2222222222222222,
              "#7201a8"
             ],
             [
              0.3333333333333333,
              "#9c179e"
             ],
             [
              0.4444444444444444,
              "#bd3786"
             ],
             [
              0.5555555555555556,
              "#d8576b"
             ],
             [
              0.6666666666666666,
              "#ed7953"
             ],
             [
              0.7777777777777778,
              "#fb9f3a"
             ],
             [
              0.8888888888888888,
              "#fdca26"
             ],
             [
              1,
              "#f0f921"
             ]
            ],
            "type": "contour"
           }
          ],
          "contourcarpet": [
           {
            "colorbar": {
             "outlinewidth": 0,
             "ticks": ""
            },
            "type": "contourcarpet"
           }
          ],
          "heatmap": [
           {
            "colorbar": {
             "outlinewidth": 0,
             "ticks": ""
            },
            "colorscale": [
             [
              0,
              "#0d0887"
             ],
             [
              0.1111111111111111,
              "#46039f"
             ],
             [
              0.2222222222222222,
              "#7201a8"
             ],
             [
              0.3333333333333333,
              "#9c179e"
             ],
             [
              0.4444444444444444,
              "#bd3786"
             ],
             [
              0.5555555555555556,
              "#d8576b"
             ],
             [
              0.6666666666666666,
              "#ed7953"
             ],
             [
              0.7777777777777778,
              "#fb9f3a"
             ],
             [
              0.8888888888888888,
              "#fdca26"
             ],
             [
              1,
              "#f0f921"
             ]
            ],
            "type": "heatmap"
           }
          ],
          "heatmapgl": [
           {
            "colorbar": {
             "outlinewidth": 0,
             "ticks": ""
            },
            "colorscale": [
             [
              0,
              "#0d0887"
             ],
             [
              0.1111111111111111,
              "#46039f"
             ],
             [
              0.2222222222222222,
              "#7201a8"
             ],
             [
              0.3333333333333333,
              "#9c179e"
             ],
             [
              0.4444444444444444,
              "#bd3786"
             ],
             [
              0.5555555555555556,
              "#d8576b"
             ],
             [
              0.6666666666666666,
              "#ed7953"
             ],
             [
              0.7777777777777778,
              "#fb9f3a"
             ],
             [
              0.8888888888888888,
              "#fdca26"
             ],
             [
              1,
              "#f0f921"
             ]
            ],
            "type": "heatmapgl"
           }
          ],
          "histogram": [
           {
            "marker": {
             "pattern": {
              "fillmode": "overlay",
              "size": 10,
              "solidity": 0.2
             }
            },
            "type": "histogram"
           }
          ],
          "histogram2d": [
           {
            "colorbar": {
             "outlinewidth": 0,
             "ticks": ""
            },
            "colorscale": [
             [
              0,
              "#0d0887"
             ],
             [
              0.1111111111111111,
              "#46039f"
             ],
             [
              0.2222222222222222,
              "#7201a8"
             ],
             [
              0.3333333333333333,
              "#9c179e"
             ],
             [
              0.4444444444444444,
              "#bd3786"
             ],
             [
              0.5555555555555556,
              "#d8576b"
             ],
             [
              0.6666666666666666,
              "#ed7953"
             ],
             [
              0.7777777777777778,
              "#fb9f3a"
             ],
             [
              0.8888888888888888,
              "#fdca26"
             ],
             [
              1,
              "#f0f921"
             ]
            ],
            "type": "histogram2d"
           }
          ],
          "histogram2dcontour": [
           {
            "colorbar": {
             "outlinewidth": 0,
             "ticks": ""
            },
            "colorscale": [
             [
              0,
              "#0d0887"
             ],
             [
              0.1111111111111111,
              "#46039f"
             ],
             [
              0.2222222222222222,
              "#7201a8"
             ],
             [
              0.3333333333333333,
              "#9c179e"
             ],
             [
              0.4444444444444444,
              "#bd3786"
             ],
             [
              0.5555555555555556,
              "#d8576b"
             ],
             [
              0.6666666666666666,
              "#ed7953"
             ],
             [
              0.7777777777777778,
              "#fb9f3a"
             ],
             [
              0.8888888888888888,
              "#fdca26"
             ],
             [
              1,
              "#f0f921"
             ]
            ],
            "type": "histogram2dcontour"
           }
          ],
          "mesh3d": [
           {
            "colorbar": {
             "outlinewidth": 0,
             "ticks": ""
            },
            "type": "mesh3d"
           }
          ],
          "parcoords": [
           {
            "line": {
             "colorbar": {
              "outlinewidth": 0,
              "ticks": ""
             }
            },
            "type": "parcoords"
           }
          ],
          "pie": [
           {
            "automargin": true,
            "type": "pie"
           }
          ],
          "scatter": [
           {
            "fillpattern": {
             "fillmode": "overlay",
             "size": 10,
             "solidity": 0.2
            },
            "type": "scatter"
           }
          ],
          "scatter3d": [
           {
            "line": {
             "colorbar": {
              "outlinewidth": 0,
              "ticks": ""
             }
            },
            "marker": {
             "colorbar": {
              "outlinewidth": 0,
              "ticks": ""
             }
            },
            "type": "scatter3d"
           }
          ],
          "scattercarpet": [
           {
            "marker": {
             "colorbar": {
              "outlinewidth": 0,
              "ticks": ""
             }
            },
            "type": "scattercarpet"
           }
          ],
          "scattergeo": [
           {
            "marker": {
             "colorbar": {
              "outlinewidth": 0,
              "ticks": ""
             }
            },
            "type": "scattergeo"
           }
          ],
          "scattergl": [
           {
            "marker": {
             "colorbar": {
              "outlinewidth": 0,
              "ticks": ""
             }
            },
            "type": "scattergl"
           }
          ],
          "scattermapbox": [
           {
            "marker": {
             "colorbar": {
              "outlinewidth": 0,
              "ticks": ""
             }
            },
            "type": "scattermapbox"
           }
          ],
          "scatterpolar": [
           {
            "marker": {
             "colorbar": {
              "outlinewidth": 0,
              "ticks": ""
             }
            },
            "type": "scatterpolar"
           }
          ],
          "scatterpolargl": [
           {
            "marker": {
             "colorbar": {
              "outlinewidth": 0,
              "ticks": ""
             }
            },
            "type": "scatterpolargl"
           }
          ],
          "scatterternary": [
           {
            "marker": {
             "colorbar": {
              "outlinewidth": 0,
              "ticks": ""
             }
            },
            "type": "scatterternary"
           }
          ],
          "surface": [
           {
            "colorbar": {
             "outlinewidth": 0,
             "ticks": ""
            },
            "colorscale": [
             [
              0,
              "#0d0887"
             ],
             [
              0.1111111111111111,
              "#46039f"
             ],
             [
              0.2222222222222222,
              "#7201a8"
             ],
             [
              0.3333333333333333,
              "#9c179e"
             ],
             [
              0.4444444444444444,
              "#bd3786"
             ],
             [
              0.5555555555555556,
              "#d8576b"
             ],
             [
              0.6666666666666666,
              "#ed7953"
             ],
             [
              0.7777777777777778,
              "#fb9f3a"
             ],
             [
              0.8888888888888888,
              "#fdca26"
             ],
             [
              1,
              "#f0f921"
             ]
            ],
            "type": "surface"
           }
          ],
          "table": [
           {
            "cells": {
             "fill": {
              "color": "#EBF0F8"
             },
             "line": {
              "color": "white"
             }
            },
            "header": {
             "fill": {
              "color": "#C8D4E3"
             },
             "line": {
              "color": "white"
             }
            },
            "type": "table"
           }
          ]
         },
         "layout": {
          "annotationdefaults": {
           "arrowcolor": "#2a3f5f",
           "arrowhead": 0,
           "arrowwidth": 1
          },
          "autotypenumbers": "strict",
          "coloraxis": {
           "colorbar": {
            "outlinewidth": 0,
            "ticks": ""
           }
          },
          "colorscale": {
           "diverging": [
            [
             0,
             "#8e0152"
            ],
            [
             0.1,
             "#c51b7d"
            ],
            [
             0.2,
             "#de77ae"
            ],
            [
             0.3,
             "#f1b6da"
            ],
            [
             0.4,
             "#fde0ef"
            ],
            [
             0.5,
             "#f7f7f7"
            ],
            [
             0.6,
             "#e6f5d0"
            ],
            [
             0.7,
             "#b8e186"
            ],
            [
             0.8,
             "#7fbc41"
            ],
            [
             0.9,
             "#4d9221"
            ],
            [
             1,
             "#276419"
            ]
           ],
           "sequential": [
            [
             0,
             "#0d0887"
            ],
            [
             0.1111111111111111,
             "#46039f"
            ],
            [
             0.2222222222222222,
             "#7201a8"
            ],
            [
             0.3333333333333333,
             "#9c179e"
            ],
            [
             0.4444444444444444,
             "#bd3786"
            ],
            [
             0.5555555555555556,
             "#d8576b"
            ],
            [
             0.6666666666666666,
             "#ed7953"
            ],
            [
             0.7777777777777778,
             "#fb9f3a"
            ],
            [
             0.8888888888888888,
             "#fdca26"
            ],
            [
             1,
             "#f0f921"
            ]
           ],
           "sequentialminus": [
            [
             0,
             "#0d0887"
            ],
            [
             0.1111111111111111,
             "#46039f"
            ],
            [
             0.2222222222222222,
             "#7201a8"
            ],
            [
             0.3333333333333333,
             "#9c179e"
            ],
            [
             0.4444444444444444,
             "#bd3786"
            ],
            [
             0.5555555555555556,
             "#d8576b"
            ],
            [
             0.6666666666666666,
             "#ed7953"
            ],
            [
             0.7777777777777778,
             "#fb9f3a"
            ],
            [
             0.8888888888888888,
             "#fdca26"
            ],
            [
             1,
             "#f0f921"
            ]
           ]
          },
          "colorway": [
           "#636efa",
           "#EF553B",
           "#00cc96",
           "#ab63fa",
           "#FFA15A",
           "#19d3f3",
           "#FF6692",
           "#B6E880",
           "#FF97FF",
           "#FECB52"
          ],
          "font": {
           "color": "#2a3f5f"
          },
          "geo": {
           "bgcolor": "white",
           "lakecolor": "white",
           "landcolor": "#E5ECF6",
           "showlakes": true,
           "showland": true,
           "subunitcolor": "white"
          },
          "hoverlabel": {
           "align": "left"
          },
          "hovermode": "closest",
          "mapbox": {
           "style": "light"
          },
          "paper_bgcolor": "white",
          "plot_bgcolor": "#E5ECF6",
          "polar": {
           "angularaxis": {
            "gridcolor": "white",
            "linecolor": "white",
            "ticks": ""
           },
           "bgcolor": "#E5ECF6",
           "radialaxis": {
            "gridcolor": "white",
            "linecolor": "white",
            "ticks": ""
           }
          },
          "scene": {
           "xaxis": {
            "backgroundcolor": "#E5ECF6",
            "gridcolor": "white",
            "gridwidth": 2,
            "linecolor": "white",
            "showbackground": true,
            "ticks": "",
            "zerolinecolor": "white"
           },
           "yaxis": {
            "backgroundcolor": "#E5ECF6",
            "gridcolor": "white",
            "gridwidth": 2,
            "linecolor": "white",
            "showbackground": true,
            "ticks": "",
            "zerolinecolor": "white"
           },
           "zaxis": {
            "backgroundcolor": "#E5ECF6",
            "gridcolor": "white",
            "gridwidth": 2,
            "linecolor": "white",
            "showbackground": true,
            "ticks": "",
            "zerolinecolor": "white"
           }
          },
          "shapedefaults": {
           "line": {
            "color": "#2a3f5f"
           }
          },
          "ternary": {
           "aaxis": {
            "gridcolor": "white",
            "linecolor": "white",
            "ticks": ""
           },
           "baxis": {
            "gridcolor": "white",
            "linecolor": "white",
            "ticks": ""
           },
           "bgcolor": "#E5ECF6",
           "caxis": {
            "gridcolor": "white",
            "linecolor": "white",
            "ticks": ""
           }
          },
          "title": {
           "x": 0.05
          },
          "xaxis": {
           "automargin": true,
           "gridcolor": "white",
           "linecolor": "white",
           "ticks": "",
           "title": {
            "standoff": 15
           },
           "zerolinecolor": "white",
           "zerolinewidth": 2
          },
          "yaxis": {
           "automargin": true,
           "gridcolor": "white",
           "linecolor": "white",
           "ticks": "",
           "title": {
            "standoff": 15
           },
           "zerolinecolor": "white",
           "zerolinewidth": 2
          }
         }
        },
        "title": {
         "text": "GiBUU Log Normal Chi2"
        },
        "width": 700,
        "xaxis": {
         "autorange": true,
         "gridcolor": "lightgray",
         "linecolor": "black",
         "range": [
          -0.42818119735943555,
          6.428181197359436
         ],
         "showgrid": true,
         "tickmode": "array",
         "tickvals": [
          "Tpi",
          "pmu",
          "ptmu",
          "pzmu",
          "q2",
          "thmu",
          "thpi"
         ],
         "title": {
          "text": "Variables"
         },
         "type": "category"
        },
        "yaxis": {
         "autorange": false,
         "gridcolor": "lightgray",
         "linecolor": "black",
         "range": [
          0,
          83.41806
         ],
         "showgrid": true,
         "title": {
          "text": "Log Norm Chi2"
         },
         "type": "linear"
        }
       }
      },
      "image/png": "[encoded data removed]",
      "text/html": [
       "<div>                            <div id=\"66e09c63-2ec1-4ce7-8dfe-2b11f6429820\" class=\"plotly-graph-div\" style=\"height:800px; width:100%;\"></div>            <script type=\"text/javascript\">                require([\"plotly\"], function(Plotly) {                    window.PLOTLYENV=window.PLOTLYENV || {};                                    if (document.getElementById(\"66e09c63-2ec1-4ce7-8dfe-2b11f6429820\")) {                    Plotly.newPlot(                        \"66e09c63-2ec1-4ce7-8dfe-2b11f6429820\",                        [{\"marker\":{\"color\":\"rgb(31, 119, 180)\",\"size\":10},\"mode\":\"markers\",\"name\":\"No syst\",\"showlegend\":true,\"x\":[\"Tpi\"],\"y\":[73.8266],\"type\":\"scatter\"},{\"marker\":{\"color\":\"rgb(255, 127, 14)\",\"size\":10},\"mode\":\"markers\",\"name\":\"Syst\",\"showlegend\":true,\"x\":[\"Tpi\"],\"y\":[75.8346],\"type\":\"scatter\"},{\"marker\":{\"color\":\"rgb(31, 119, 180)\",\"size\":10},\"mode\":\"markers\",\"name\":\"No syst\",\"showlegend\":false,\"x\":[\"pmu\"],\"y\":[35.3492],\"type\":\"scatter\"},{\"marker\":{\"color\":\"rgb(255, 127, 14)\",\"size\":10},\"mode\":\"markers\",\"name\":\"Syst\",\"showlegend\":false,\"x\":[\"pmu\"],\"y\":[28.6173],\"type\":\"scatter\"},{\"marker\":{\"color\":\"rgb(31, 119, 180)\",\"size\":10},\"mode\":\"markers\",\"name\":\"No syst\",\"showlegend\":false,\"x\":[\"ptmu\"],\"y\":[34.3516],\"type\":\"scatter\"},{\"marker\":{\"color\":\"rgb(255, 127, 14)\",\"size\":10},\"mode\":\"markers\",\"name\":\"Syst\",\"showlegend\":false,\"x\":[\"ptmu\"],\"y\":[21.1302],\"type\":\"scatter\"},{\"marker\":{\"color\":\"rgb(31, 119, 180)\",\"size\":10},\"mode\":\"markers\",\"name\":\"No syst\",\"showlegend\":false,\"x\":[\"pzmu\"],\"y\":[50.9099],\"type\":\"scatter\"},{\"marker\":{\"color\":\"rgb(255, 127, 14)\",\"size\":10},\"mode\":\"markers\",\"name\":\"Syst\",\"showlegend\":false,\"x\":[\"pzmu\"],\"y\":[40.2687],\"type\":\"scatter\"},{\"marker\":{\"color\":\"rgb(31, 119, 180)\",\"size\":10},\"mode\":\"markers\",\"name\":\"No syst\",\"showlegend\":false,\"x\":[\"q2\"],\"y\":[24.1675],\"type\":\"scatter\"},{\"marker\":{\"color\":\"rgb(255, 127, 14)\",\"size\":10},\"mode\":\"markers\",\"name\":\"Syst\",\"showlegend\":false,\"x\":[\"q2\"],\"y\":[18.6837],\"type\":\"scatter\"},{\"marker\":{\"color\":\"rgb(31, 119, 180)\",\"size\":10},\"mode\":\"markers\",\"name\":\"No syst\",\"showlegend\":false,\"x\":[\"thmu\"],\"y\":[29.4017],\"type\":\"scatter\"},{\"marker\":{\"color\":\"rgb(255, 127, 14)\",\"size\":10},\"mode\":\"markers\",\"name\":\"Syst\",\"showlegend\":false,\"x\":[\"thmu\"],\"y\":[24.9694],\"type\":\"scatter\"},{\"marker\":{\"color\":\"rgb(31, 119, 180)\",\"size\":10},\"mode\":\"markers\",\"name\":\"No syst\",\"showlegend\":false,\"x\":[\"thpi\"],\"y\":[3.39854],\"type\":\"scatter\"},{\"marker\":{\"color\":\"rgb(255, 127, 14)\",\"size\":10},\"mode\":\"markers\",\"name\":\"Syst\",\"showlegend\":false,\"x\":[\"thpi\"],\"y\":[0.0],\"type\":\"scatter\"}],                        {\"template\":{\"data\":{\"histogram2dcontour\":[{\"type\":\"histogram2dcontour\",\"colorbar\":{\"outlinewidth\":0,\"ticks\":\"\"},\"colorscale\":[[0.0,\"#0d0887\"],[0.1111111111111111,\"#46039f\"],[0.2222222222222222,\"#7201a8\"],[0.3333333333333333,\"#9c179e\"],[0.4444444444444444,\"#bd3786\"],[0.5555555555555556,\"#d8576b\"],[0.6666666666666666,\"#ed7953\"],[0.7777777777777778,\"#fb9f3a\"],[0.8888888888888888,\"#fdca26\"],[1.0,\"#f0f921\"]]}],\"choropleth\":[{\"type\":\"choropleth\",\"colorbar\":{\"outlinewidth\":0,\"ticks\":\"\"}}],\"histogram2d\":[{\"type\":\"histogram2d\",\"colorbar\":{\"outlinewidth\":0,\"ticks\":\"\"},\"colorscale\":[[0.0,\"#0d0887\"],[0.1111111111111111,\"#46039f\"],[0.2222222222222222,\"#7201a8\"],[0.3333333333333333,\"#9c179e\"],[0.4444444444444444,\"#bd3786\"],[0.5555555555555556,\"#d8576b\"],[0.6666666666666666,\"#ed7953\"],[0.7777777777777778,\"#fb9f3a\"],[0.8888888888888888,\"#fdca26\"],[1.0,\"#f0f921\"]]}],\"heatmap\":[{\"type\":\"heatmap\",\"colorbar\":{\"outlinewidth\":0,\"ticks\":\"\"},\"colorscale\":[[0.0,\"#0d0887\"],[0.1111111111111111,\"#46039f\"],[0.2222222222222222,\"#7201a8\"],[0.3333333333333333,\"#9c179e\"],[0.4444444444444444,\"#bd3786\"],[0.5555555555555556,\"#d8576b\"],[0.6666666666666666,\"#ed7953\"],[0.7777777777777778,\"#fb9f3a\"],[0.8888888888888888,\"#fdca26\"],[1.0,\"#f0f921\"]]}],\"heatmapgl\":[{\"type\":\"heatmapgl\",\"colorbar\":{\"outlinewidth\":0,\"ticks\":\"\"},\"colorscale\":[[0.0,\"#0d0887\"],[0.1111111111111111,\"#46039f\"],[0.2222222222222222,\"#7201a8\"],[0.3333333333333333,\"#9c179e\"],[0.4444444444444444,\"#bd3786\"],[0.5555555555555556,\"#d8576b\"],[0.6666666666666666,\"#ed7953\"],[0.7777777777777778,\"#fb9f3a\"],[0.8888888888888888,\"#fdca26\"],[1.0,\"#f0f921\"]]}],\"contourcarpet\":[{\"type\":\"contourcarpet\",\"colorbar\":{\"outlinewidth\":0,\"ticks\":\"\"}}],\"contour\":[{\"type\":\"contour\",\"colorbar\":{\"outlinewidth\":0,\"ticks\":\"\"},\"colorscale\":[[0.0,\"#0d0887\"],[0.1111111111111111,\"#46039f\"],[0.2222222222222222,\"#7201a8\"],[0.3333333333333333,\"#9c179e\"],[0.4444444444444444,\"#bd3786\"],[0.5555555555555556,\"#d8576b\"],[0.6666666666666666,\"#ed7953\"],[0.7777777777777778,\"#fb9f3a\"],[0.8888888888888888,\"#fdca26\"],[1.0,\"#f0f921\"]]}],\"surface\":[{\"type\":\"surface\",\"colorbar\":{\"outlinewidth\":0,\"ticks\":\"\"},\"colorscale\":[[0.0,\"#0d0887\"],[0.1111111111111111,\"#46039f\"],[0.2222222222222222,\"#7201a8\"],[0.3333333333333333,\"#9c179e\"],[0.4444444444444444,\"#bd3786\"],[0.5555555555555556,\"#d8576b\"],[0.6666666666666666,\"#ed7953\"],[0.7777777777777778,\"#fb9f3a\"],[0.8888888888888888,\"#fdca26\"],[1.0,\"#f0f921\"]]}],\"mesh3d\":[{\"type\":\"mesh3d\",\"colorbar\":{\"outlinewidth\":0,\"ticks\":\"\"}}],\"scatter\":[{\"fillpattern\":{\"fillmode\":\"overlay\",\"size\":10,\"solidity\":0.2},\"type\":\"scatter\"}],\"parcoords\":[{\"type\":\"parcoords\",\"line\":{\"colorbar\":{\"outlinewidth\":0,\"ticks\":\"\"}}}],\"scatterpolargl\":[{\"type\":\"scatterpolargl\",\"marker\":{\"colorbar\":{\"outlinewidth\":0,\"ticks\":\"\"}}}],\"bar\":[{\"error_x\":{\"color\":\"#2a3f5f\"},\"error_y\":{\"color\":\"#2a3f5f\"},\"marker\":{\"line\":{\"color\":\"#E5ECF6\",\"width\":0.5},\"pattern\":{\"fillmode\":\"overlay\",\"size\":10,\"solidity\":0.2}},\"type\":\"bar\"}],\"scattergeo\":[{\"type\":\"scattergeo\",\"marker\":{\"colorbar\":{\"outlinewidth\":0,\"ticks\":\"\"}}}],\"scatterpolar\":[{\"type\":\"scatterpolar\",\"marker\":{\"colorbar\":{\"outlinewidth\":0,\"ticks\":\"\"}}}],\"histogram\":[{\"marker\":{\"pattern\":{\"fillmode\":\"overlay\",\"size\":10,\"solidity\":0.2}},\"type\":\"histogram\"}],\"scattergl\":[{\"type\":\"scattergl\",\"marker\":{\"colorbar\":{\"outlinewidth\":0,\"ticks\":\"\"}}}],\"scatter3d\":[{\"type\":\"scatter3d\",\"line\":{\"colorbar\":{\"outlinewidth\":0,\"ticks\":\"\"}},\"marker\":{\"colorbar\":{\"outlinewidth\":0,\"ticks\":\"\"}}}],\"scattermapbox\":[{\"type\":\"scattermapbox\",\"marker\":{\"colorbar\":{\"outlinewidth\":0,\"ticks\":\"\"}}}],\"scatterternary\":[{\"type\":\"scatterternary\",\"marker\":{\"colorbar\":{\"outlinewidth\":0,\"ticks\":\"\"}}}],\"scattercarpet\":[{\"type\":\"scattercarpet\",\"marker\":{\"colorbar\":{\"outlinewidth\":0,\"ticks\":\"\"}}}],\"carpet\":[{\"aaxis\":{\"endlinecolor\":\"#2a3f5f\",\"gridcolor\":\"white\",\"linecolor\":\"white\",\"minorgridcolor\":\"white\",\"startlinecolor\":\"#2a3f5f\"},\"baxis\":{\"endlinecolor\":\"#2a3f5f\",\"gridcolor\":\"white\",\"linecolor\":\"white\",\"minorgridcolor\":\"white\",\"startlinecolor\":\"#2a3f5f\"},\"type\":\"carpet\"}],\"table\":[{\"cells\":{\"fill\":{\"color\":\"#EBF0F8\"},\"line\":{\"color\":\"white\"}},\"header\":{\"fill\":{\"color\":\"#C8D4E3\"},\"line\":{\"color\":\"white\"}},\"type\":\"table\"}],\"barpolar\":[{\"marker\":{\"line\":{\"color\":\"#E5ECF6\",\"width\":0.5},\"pattern\":{\"fillmode\":\"overlay\",\"size\":10,\"solidity\":0.2}},\"type\":\"barpolar\"}],\"pie\":[{\"automargin\":true,\"type\":\"pie\"}]},\"layout\":{\"autotypenumbers\":\"strict\",\"colorway\":[\"#636efa\",\"#EF553B\",\"#00cc96\",\"#ab63fa\",\"#FFA15A\",\"#19d3f3\",\"#FF6692\",\"#B6E880\",\"#FF97FF\",\"#FECB52\"],\"font\":{\"color\":\"#2a3f5f\"},\"hovermode\":\"closest\",\"hoverlabel\":{\"align\":\"left\"},\"paper_bgcolor\":\"white\",\"plot_bgcolor\":\"#E5ECF6\",\"polar\":{\"bgcolor\":\"#E5ECF6\",\"angularaxis\":{\"gridcolor\":\"white\",\"linecolor\":\"white\",\"ticks\":\"\"},\"radialaxis\":{\"gridcolor\":\"white\",\"linecolor\":\"white\",\"ticks\":\"\"}},\"ternary\":{\"bgcolor\":\"#E5ECF6\",\"aaxis\":{\"gridcolor\":\"white\",\"linecolor\":\"white\",\"ticks\":\"\"},\"baxis\":{\"gridcolor\":\"white\",\"linecolor\":\"white\",\"ticks\":\"\"},\"caxis\":{\"gridcolor\":\"white\",\"linecolor\":\"white\",\"ticks\":\"\"}},\"coloraxis\":{\"colorbar\":{\"outlinewidth\":0,\"ticks\":\"\"}},\"colorscale\":{\"sequential\":[[0.0,\"#0d0887\"],[0.1111111111111111,\"#46039f\"],[0.2222222222222222,\"#7201a8\"],[0.3333333333333333,\"#9c179e\"],[0.4444444444444444,\"#bd3786\"],[0.5555555555555556,\"#d8576b\"],[0.6666666666666666,\"#ed7953\"],[0.7777777777777778,\"#fb9f3a\"],[0.8888888888888888,\"#fdca26\"],[1.0,\"#f0f921\"]],\"sequentialminus\":[[0.0,\"#0d0887\"],[0.1111111111111111,\"#46039f\"],[0.2222222222222222,\"#7201a8\"],[0.3333333333333333,\"#9c179e\"],[0.4444444444444444,\"#bd3786\"],[0.5555555555555556,\"#d8576b\"],[0.6666666666666666,\"#ed7953\"],[0.7777777777777778,\"#fb9f3a\"],[0.8888888888888888,\"#fdca26\"],[1.0,\"#f0f921\"]],\"diverging\":[[0,\"#8e0152\"],[0.1,\"#c51b7d\"],[0.2,\"#de77ae\"],[0.3,\"#f1b6da\"],[0.4,\"#fde0ef\"],[0.5,\"#f7f7f7\"],[0.6,\"#e6f5d0\"],[0.7,\"#b8e186\"],[0.8,\"#7fbc41\"],[0.9,\"#4d9221\"],[1,\"#276419\"]]},\"xaxis\":{\"gridcolor\":\"white\",\"linecolor\":\"white\",\"ticks\":\"\",\"title\":{\"standoff\":15},\"zerolinecolor\":\"white\",\"automargin\":true,\"zerolinewidth\":2},\"yaxis\":{\"gridcolor\":\"white\",\"linecolor\":\"white\",\"ticks\":\"\",\"title\":{\"standoff\":15},\"zerolinecolor\":\"white\",\"automargin\":true,\"zerolinewidth\":2},\"scene\":{\"xaxis\":{\"backgroundcolor\":\"#E5ECF6\",\"gridcolor\":\"white\",\"linecolor\":\"white\",\"showbackground\":true,\"ticks\":\"\",\"zerolinecolor\":\"white\",\"gridwidth\":2},\"yaxis\":{\"backgroundcolor\":\"#E5ECF6\",\"gridcolor\":\"white\",\"linecolor\":\"white\",\"showbackground\":true,\"ticks\":\"\",\"zerolinecolor\":\"white\",\"gridwidth\":2},\"zaxis\":{\"backgroundcolor\":\"#E5ECF6\",\"gridcolor\":\"white\",\"linecolor\":\"white\",\"showbackground\":true,\"ticks\":\"\",\"zerolinecolor\":\"white\",\"gridwidth\":2}},\"shapedefaults\":{\"line\":{\"color\":\"#2a3f5f\"}},\"annotationdefaults\":{\"arrowcolor\":\"#2a3f5f\",\"arrowhead\":0,\"arrowwidth\":1},\"geo\":{\"bgcolor\":\"white\",\"landcolor\":\"#E5ECF6\",\"subunitcolor\":\"white\",\"showland\":true,\"showlakes\":true,\"lakecolor\":\"white\"},\"title\":{\"x\":0.05},\"mapbox\":{\"style\":\"light\"}}},\"annotations\":[{\"arrowcolor\":\"gray\",\"arrowhead\":2,\"arrowsize\":1,\"arrowwidth\":1.5,\"ax\":\"Tpi\",\"axref\":\"x\",\"ay\":73.8266,\"ayref\":\"y\",\"showarrow\":true,\"x\":\"Tpi\",\"xref\":\"x\",\"y\":75.8346,\"yref\":\"y\"},{\"arrowcolor\":\"gray\",\"arrowhead\":2,\"arrowsize\":1,\"arrowwidth\":1.5,\"ax\":\"pmu\",\"axref\":\"x\",\"ay\":35.3492,\"ayref\":\"y\",\"showarrow\":true,\"x\":\"pmu\",\"xref\":\"x\",\"y\":28.6173,\"yref\":\"y\"},{\"arrowcolor\":\"gray\",\"arrowhead\":2,\"arrowsize\":1,\"arrowwidth\":1.5,\"ax\":\"ptmu\",\"axref\":\"x\",\"ay\":34.3516,\"ayref\":\"y\",\"showarrow\":true,\"x\":\"ptmu\",\"xref\":\"x\",\"y\":21.1302,\"yref\":\"y\"},{\"arrowcolor\":\"gray\",\"arrowhead\":2,\"arrowsize\":1,\"arrowwidth\":1.5,\"ax\":\"pzmu\",\"axref\":\"x\",\"ay\":50.9099,\"ayref\":\"y\",\"showarrow\":true,\"x\":\"pzmu\",\"xref\":\"x\",\"y\":40.2687,\"yref\":\"y\"},{\"arrowcolor\":\"gray\",\"arrowhead\":2,\"arrowsize\":1,\"arrowwidth\":1.5,\"ax\":\"q2\",\"axref\":\"x\",\"ay\":24.1675,\"ayref\":\"y\",\"showarrow\":true,\"x\":\"q2\",\"xref\":\"x\",\"y\":18.6837,\"yref\":\"y\"},{\"arrowcolor\":\"gray\",\"arrowhead\":2,\"arrowsize\":1,\"arrowwidth\":1.5,\"ax\":\"thmu\",\"axref\":\"x\",\"ay\":29.4017,\"ayref\":\"y\",\"showarrow\":true,\"x\":\"thmu\",\"xref\":\"x\",\"y\":24.9694,\"yref\":\"y\"},{\"arrowcolor\":\"gray\",\"arrowhead\":2,\"arrowsize\":1,\"arrowwidth\":1.5,\"ax\":\"thpi\",\"axref\":\"x\",\"ay\":3.39854,\"ayref\":\"y\",\"showarrow\":true,\"x\":\"thpi\",\"xref\":\"x\",\"y\":0.0,\"yref\":\"y\"}],\"xaxis\":{\"title\":{\"text\":\"Variables\"},\"tickmode\":\"array\",\"tickvals\":[\"Tpi\",\"pmu\",\"ptmu\",\"pzmu\",\"q2\",\"thmu\",\"thpi\"],\"showgrid\":true,\"gridcolor\":\"lightgray\",\"linecolor\":\"black\"},\"yaxis\":{\"title\":{\"text\":\"Log Norm Chi2\"},\"range\":[0,83.41806],\"autorange\":false,\"showgrid\":true,\"gridcolor\":\"lightgray\",\"linecolor\":\"black\"},\"title\":{\"text\":\"GiBUU Log Normal Chi2\"},\"legend\":{\"title\":{\"text\":\"Series\"}},\"height\":800,\"autosize\":false,\"plot_bgcolor\":\"white\",\"paper_bgcolor\":\"white\"},                        {\"responsive\": true}                    ).then(function(){\n",
       "                            \n",
       "var gd = document.getElementById('66e09c63-2ec1-4ce7-8dfe-2b11f6429820');\n",
       "var x = new MutationObserver(function (mutations, observer) {{\n",
       "        var display = window.getComputedStyle(gd).display;\n",
       "        if (!display || display === 'none') {{\n",
       "            console.log([gd, 'removed!']);\n",
       "            Plotly.purge(gd);\n",
       "            observer.disconnect();\n",
       "        }}\n",
       "}});\n",
       "\n",
       "// Listen for the removal of the full notebook cells\n",
       "var notebookContainer = gd.closest('#notebook-container');\n",
       "if (notebookContainer) {{\n",
       "    x.observe(notebookContainer, {childList: true});\n",
       "}}\n",
       "\n",
       "// Listen for the clearing of the current output cell\n",
       "var outputEl = gd.closest('.output');\n",
       "if (outputEl) {{\n",
       "    x.observe(outputEl, {childList: true});\n",
       "}}\n",
       "\n",
       "                        })                };                });            </script>        </div>"
      ]
     },
     "metadata": {},
     "output_type": "display_data"
    }
   ],
   "source": [
    "plot_chi2s_by_model(data, \"GiBUU\")"
   ]
  },
  {
   "cell_type": "code",
   "execution_count": 67,
   "id": "541e0d15-0f9f-4587-956c-f1bab552ce7e",
   "metadata": {},
   "outputs": [],
   "source": [
    "for m in data.index:\n",
    "    plot_chi2s_by_model(data, m, show=False, save=True)"
   ]
  }
 ],
 "metadata": {
  "kernelspec": {
   "display_name": "Python 3 (ipykernel)",
   "language": "python",
   "name": "python3"
  },
  "language_info": {
   "codemirror_mode": {
    "name": "ipython",
    "version": 3
   },
   "file_extension": ".py",
   "mimetype": "text/x-python",
   "name": "python",
   "nbconvert_exporter": "python",
   "pygments_lexer": "ipython3",
   "version": "3.12.4"
  }
 },
 "nbformat": 4,
 "nbformat_minor": 5
}
