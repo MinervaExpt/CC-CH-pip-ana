{
 "cells": [
  {
   "cell_type": "code",
   "execution_count": 1,
   "id": "e58ce5ad-052d-4701-bcd8-0a7fed307ca7",
   "metadata": {},
   "outputs": [
    {
     "ename": "ModuleNotFoundError",
     "evalue": "No module named 'plotly'",
     "output_type": "error",
     "traceback": [
      "\u001b[0;31m---------------------------------------------------------------------------\u001b[0m",
      "\u001b[0;31mModuleNotFoundError\u001b[0m                       Traceback (most recent call last)",
      "Cell \u001b[0;32mIn[1], line 2\u001b[0m\n\u001b[1;32m      1\u001b[0m \u001b[38;5;28;01mimport\u001b[39;00m \u001b[38;5;21;01mpandas\u001b[39;00m \u001b[38;5;28;01mas\u001b[39;00m \u001b[38;5;21;01mpd\u001b[39;00m\n\u001b[0;32m----> 2\u001b[0m \u001b[38;5;28;01mimport\u001b[39;00m \u001b[38;5;21;01mplotly\u001b[39;00m\u001b[38;5;21;01m.\u001b[39;00m\u001b[38;5;21;01mgraph_objs\u001b[39;00m \u001b[38;5;28;01mas\u001b[39;00m \u001b[38;5;21;01mgo\u001b[39;00m\n",
      "\u001b[0;31mModuleNotFoundError\u001b[0m: No module named 'plotly'"
     ]
    }
   ],
   "source": [
    "import pandas as pd\n",
    "import plotly.graph_objs as go"
   ]
  },
  {
   "cell_type": "code",
   "execution_count": null,
   "id": "00e3ec37-67eb-4b33-9ec5-5d395ce04f73",
   "metadata": {},
   "outputs": [],
   "source": [
    "# Load the data, skipping the first row and setting the first column as the index\n",
    "data = pd.read_csv('your_data.csv', header=1, index_col=0)\n",
    "\n",
    "# Clean up column names by flattening multi-level columns and removing empty columns\n",
    "data.columns = [f\"{col[0]}_{col[1]}\" for col in zip(data.columns, data.iloc[0])]\n",
    "data = data.drop(0).apply(pd.to_numeric, errors='coerce')\n",
    "\n",
    "# Create the interactive plot\n",
    "fig = go.Figure()\n",
    "\n",
    "for column in data.columns:\n",
    "    fig.add_trace(go.Scatter(\n",
    "        x=data.index, \n",
    "        y=data[column], \n",
    "        mode='markers+lines', \n",
    "        name=column\n",
    "    ))\n",
    "\n",
    "# Update layout for better readability\n",
    "fig.update_layout(\n",
    "    title=\"Log Normal Chi2 (Tune Syst)\",\n",
    "    xaxis_title=\"Models\",\n",
    "    yaxis_title=\"Chi2 Value\",\n",
    "    legend_title=\"Series\",\n",
    "    xaxis=dict(tickmode='linear')\n",
    ")\n",
    "\n",
    "# Display the interactive plot\n",
    "fig.show()"
   ]
  }
 ],
 "metadata": {
  "kernelspec": {
   "display_name": "Python 3 (ipykernel)",
   "language": "python",
   "name": "python3"
  },
  "language_info": {
   "codemirror_mode": {
    "name": "ipython",
    "version": 3
   },
   "file_extension": ".py",
   "mimetype": "text/x-python",
   "name": "python",
   "nbconvert_exporter": "python",
   "pygments_lexer": "ipython3",
   "version": "3.12.4"
  }
 },
 "nbformat": 4,
 "nbformat_minor": 5
}
