{
 "cells": [
  {
   "cell_type": "code",
   "execution_count": 70,
   "id": "2281ed4c-e190-476e-bc03-302b6cd10972",
   "metadata": {},
   "outputs": [],
   "source": [
    "from ROOT import (\n",
    "    PlotUtils,\n",
    "    TH1,\n",
    "    TFile,\n",
    "    TCanvas,\n",
    "    TGraph,\n",
    "    TGraphErrors,\n",
    "    TF1,\n",
    "    kFALSE,\n",
    "    TMath,\n",
    "    gPad,\n",
    "    gStyle,\n",
    "    TLatex,\n",
    "    kRed,\n",
    ")\n",
    "import os\n",
    "import sys\n",
    "import array as ar"
   ]
  },
  {
   "cell_type": "code",
   "execution_count": 2,
   "id": "379fa97b-fc18-42de-b771-8c152b3de581",
   "metadata": {},
   "outputs": [],
   "source": [
    "if \"canvas\" in locals():\n",
    "    del canvas\n",
    "canvas = TCanvas(\"canvas\", \"canvas\", 800, 600)"
   ]
  },
  {
   "cell_type": "markdown",
   "id": "9ef48bb0-96bf-4d14-8a71-4bff7934de82",
   "metadata": {},
   "source": [
    "### Load file, input hist"
   ]
  },
  {
   "cell_type": "code",
   "execution_count": 3,
   "id": "3c377a43-89de-4ac9-ae0a-00088138e6e1",
   "metadata": {},
   "outputs": [
    {
     "name": "stdout",
     "output_type": "stream",
     "text": [
      "There are  34  NXBins (PionKE) and  35  NYBins (Range)\n"
     ]
    }
   ],
   "source": [
    "TH1.AddDirectory(kFALSE)\n",
    "\n",
    "mcfile = TFile.Open(\"scaled_MC.root\")\n",
    "\n",
    "FIT_FORM = \"[0]*x + [1]*sqrt(x)\"\n",
    "\n",
    "# func2 = TF1('func2', 'gaus',350., 3000.)\n",
    "# func3 = TF1('func3', '[0]*x + [1]*sqrt(x)+gaus(3)', 0.0, 3000.)\n",
    "# func = TF1('func', 'landau', 0.0, 3000.)\n",
    "\n",
    "# Get input 2D hist\n",
    "\n",
    "# N.B. the x-axis LABEL of this plot is WRONG: it's tpi not range\n",
    "range_tpi_hist = mcfile.Get(\"Pion_Range_vs_Pion_KE_signal\")\n",
    "range_tpi_hist.SetDirectory(0)\n",
    "\n",
    "# re-use the hist name\n",
    "range_tpi_hist = range_tpi_hist.GetCVHistoWithStatError()\n",
    "range_tpi_hist.GetYaxis().SetTitle(\"Pion Range (mm)\")\n",
    "range_tpi_hist.GetXaxis().SetTitle(\"Pion KE (MeV)\")\n",
    "n_tpi_bins = range_tpi_hist.GetNbinsX() + 1\n",
    "n_range_bins = range_tpi_hist.GetNbinsY() + 1\n",
    "print(\n",
    "    \"There are \", n_tpi_bins, \" NXBins (PionKE) and \", n_range_bins, \" NYBins (Range)\"\n",
    ")"
   ]
  },
  {
   "cell_type": "code",
   "execution_count": 4,
   "id": "369b2f11-ecde-46f4-9007-4f8c1be10f31",
   "metadata": {},
   "outputs": [
    {
     "data": {
      "image/png": "[encoded data removed]",
      "text/plain": [
       "<IPython.core.display.Image object>"
      ]
     },
     "metadata": {},
     "output_type": "display_data"
    }
   ],
   "source": [
    "canvas.Clear()\n",
    "range_tpi_hist.Draw(\"COLZ\")\n",
    "canvas.Update()\n",
    "canvas.Draw()"
   ]
  },
  {
   "cell_type": "markdown",
   "id": "bb69b406-6b0a-4d78-8ba1-7564d05ff2a8",
   "metadata": {},
   "source": [
    "### Calculate the median tpi in each bin of range"
   ]
  },
  {
   "cell_type": "code",
   "execution_count": 5,
   "id": "6b95935d-7138-4ea3-8a55-69a3e902b799",
   "metadata": {},
   "outputs": [
    {
     "name": "stdout",
     "output_type": "stream",
     "text": [
      "35 35\n"
     ]
    }
   ],
   "source": [
    "# ==============================================================================\n",
    "# (2) Print the median Tpi for each bin of range getting bin contents manually\n",
    "# and using TMath. The median rounds to a single bin center value.\n",
    "# Median method: https://root.cern.ch/root/html524/TMath.html#TMath:Median\n",
    "# Save to file.\n",
    "# ===============================================================================\n",
    "range_bin_centers = ar.array(\"d\", [0] * n_range_bins)\n",
    "tpi_medians = ar.array(\"d\", [0] * n_range_bins)\n",
    "tpierrs = ar.array(\"d\", [0] * n_range_bins)\n",
    "rangeerrs = ar.array(\"d\", [0] * n_range_bins)\n",
    "\n",
    "for range_bin in range(1, n_range_bins):\n",
    "    range_bin_center = range_tpi_hist.GetYaxis().GetBinCenter(range_bin)\n",
    "\n",
    "    tpi_bin_centers = ar.array(\"d\", [0] * n_tpi_bins)\n",
    "    z = ar.array(\"d\", [0] * n_tpi_bins)\n",
    "    # get array of 2D hist contents\n",
    "    for tpi_bin in range(1, n_tpi_bins):\n",
    "        tpi_bin_centers[tpi_bin] = range_tpi_hist.GetXaxis().GetBinCenter(tpi_bin)\n",
    "        z[tpi_bin] = range_tpi_hist.GetBinContent(tpi_bin, range_bin)\n",
    "    sumz = sum(z)\n",
    "    median_tpi = TMath.Median(n_tpi_bins, tpi_bin_centers, z)\n",
    "    meanz = TMath.RMS(n_tpi_bins, tpi_bin_centers, z)\n",
    "    tpierrs[range_bin] = meanz / TMath.Sqrt(sumz) if sumz > 0 else 999\n",
    "\n",
    "    range_bin_centers[range_bin] = range_bin_center\n",
    "    tpi_medians[range_bin] = median_tpi\n",
    "print(len(tpi_medians), len(range_bin_centers))"
   ]
  },
  {
   "cell_type": "code",
   "execution_count": 6,
   "id": "1d11b5b5-2d7a-4f3e-aaa7-efdd43427436",
   "metadata": {},
   "outputs": [
    {
     "name": "stdout",
     "output_type": "stream",
     "text": [
      "range 0.05, median tpi 33.0, tpierrs nan\n",
      "range 0.55, median tpi 17.5, tpierrs 18.63362\n",
      "range 4.5, median tpi 17.5, tpierrs 3.20178\n",
      "range 12.0, median tpi 22.5, tpierrs 1.98296\n",
      "range 20.0, median tpi 22.5, tpierrs 1.75403\n",
      "range 28.0, median tpi 27.5, tpierrs 1.40246\n",
      "range 36.0, median tpi 27.5, tpierrs 1.33769\n",
      "range 45.0, median tpi 33.0, tpierrs 1.33308\n",
      "range 57.5, median tpi 39.0, tpierrs 1.16372\n",
      "range 72.5, median tpi 45.0, tpierrs 1.20405\n",
      "range 87.5, median tpi 51.0, tpierrs 1.27112\n",
      "range 102.5, median tpi 51.0, tpierrs 1.28174\n",
      "range 125.0, median tpi 57.0, tpierrs 0.96977\n",
      "range 155.0, median tpi 69.0, tpierrs 0.99739\n",
      "range 185.0, median tpi 75.0, tpierrs 1.0634\n",
      "range 215.0, median tpi 81.0, tpierrs 1.12735\n",
      "range 245.0, median tpi 87.0, tpierrs 1.18854\n",
      "range 275.0, median tpi 93.0, tpierrs 1.27772\n",
      "range 300.0, median tpi 99.0, tpierrs 1.72859\n",
      "range 335.0, median tpi 106.0, tpierrs 1.16701\n",
      "range 380.0, median tpi 117.5, tpierrs 1.50006\n",
      "range 425.0, median tpi 132.5, tpierrs 1.53823\n",
      "range 475.0, median tpi 132.5, tpierrs 1.71541\n",
      "range 525.0, median tpi 147.5, tpierrs 1.93464\n",
      "range 575.0, median tpi 165.0, tpierrs 2.16442\n",
      "range 625.0, median tpi 165.0, tpierrs 2.44207\n",
      "range 675.0, median tpi 187.5, tpierrs 2.70992\n",
      "range 750.0, median tpi 187.5, tpierrs 2.2199\n",
      "range 850.0, median tpi 212.5, tpierrs 2.66234\n",
      "range 950.0, median tpi 237.5, tpierrs 3.20829\n",
      "range 1100.0, median tpi 262.5, tpierrs 2.90824\n",
      "range 1300.0, median tpi 312.5, tpierrs 4.22601\n",
      "range 1600.0, median tpi 375.0, tpierrs 4.74042\n",
      "range 2100.0, median tpi 450.0, tpierrs 8.07581\n"
     ]
    }
   ],
   "source": [
    "for range_bin in range(1, n_range_bins):\n",
    "    range_bin_center = range_bin_centers[range_bin]\n",
    "    median_tpi = tpi_medians[range_bin]\n",
    "    tpierr = tpierrs[range_bin]\n",
    "    print(f\"range {range_bin_center}, median tpi {median_tpi}, tpierrs {round(tpierr,5)}\")"
   ]
  },
  {
   "cell_type": "code",
   "execution_count": 7,
   "id": "41881f2d-57f9-408c-8da0-be4678767c9d",
   "metadata": {},
   "outputs": [],
   "source": [
    "# Trim off outlying first bins\n",
    "trimmed_range_bin_centers = range_bin_centers[2:-1]\n",
    "trimmed_tpi_medians = tpi_medians[2:-1]\n",
    "trimmed_rangeerrs = rangeerrs[2:-1]\n",
    "trimmed_tpierrs = tpierrs[2:-1]\n",
    "assert len(trimmed_range_bin_centers) == len(trimmed_tpi_medians) == len(trimmed_rangeerrs) == len(trimmed_tpierrs)"
   ]
  },
  {
   "cell_type": "code",
   "execution_count": 8,
   "id": "bf4a9be1-dc7f-4047-88df-330d6068fca8",
   "metadata": {},
   "outputs": [
    {
     "name": "stdout",
     "output_type": "stream",
     "text": [
      "range 4.5, median tpi 17.5, tpierrs 3.20178\n",
      "range 12.0, median tpi 22.5, tpierrs 1.98296\n",
      "range 20.0, median tpi 22.5, tpierrs 1.75403\n",
      "range 28.0, median tpi 27.5, tpierrs 1.40246\n",
      "range 36.0, median tpi 27.5, tpierrs 1.33769\n",
      "range 45.0, median tpi 33.0, tpierrs 1.33308\n",
      "range 57.5, median tpi 39.0, tpierrs 1.16372\n",
      "range 72.5, median tpi 45.0, tpierrs 1.20405\n",
      "range 87.5, median tpi 51.0, tpierrs 1.27112\n",
      "range 102.5, median tpi 51.0, tpierrs 1.28174\n",
      "range 125.0, median tpi 57.0, tpierrs 0.96977\n",
      "range 155.0, median tpi 69.0, tpierrs 0.99739\n",
      "range 185.0, median tpi 75.0, tpierrs 1.0634\n",
      "range 215.0, median tpi 81.0, tpierrs 1.12735\n",
      "range 245.0, median tpi 87.0, tpierrs 1.18854\n",
      "range 275.0, median tpi 93.0, tpierrs 1.27772\n",
      "range 300.0, median tpi 99.0, tpierrs 1.72859\n",
      "range 335.0, median tpi 106.0, tpierrs 1.16701\n",
      "range 380.0, median tpi 117.5, tpierrs 1.50006\n",
      "range 425.0, median tpi 132.5, tpierrs 1.53823\n",
      "range 475.0, median tpi 132.5, tpierrs 1.71541\n",
      "range 525.0, median tpi 147.5, tpierrs 1.93464\n",
      "range 575.0, median tpi 165.0, tpierrs 2.16442\n",
      "range 625.0, median tpi 165.0, tpierrs 2.44207\n",
      "range 675.0, median tpi 187.5, tpierrs 2.70992\n",
      "range 750.0, median tpi 187.5, tpierrs 2.2199\n",
      "range 850.0, median tpi 212.5, tpierrs 2.66234\n",
      "range 950.0, median tpi 237.5, tpierrs 3.20829\n",
      "range 1100.0, median tpi 262.5, tpierrs 2.90824\n",
      "range 1300.0, median tpi 312.5, tpierrs 4.22601\n",
      "range 1600.0, median tpi 375.0, tpierrs 4.74042\n"
     ]
    }
   ],
   "source": [
    "for range_bin in range(1, len(trimmed_range_bin_centers)):\n",
    "    range_bin_center = trimmed_range_bin_centers[range_bin]\n",
    "    median_tpi = trimmed_tpi_medians[range_bin]\n",
    "    tpierr = trimmed_tpierrs[range_bin]\n",
    "    print(f\"range {range_bin_center}, median tpi {median_tpi}, tpierrs {round(tpierr,5)}\")"
   ]
  },
  {
   "cell_type": "markdown",
   "id": "40293f5e-689d-4e7b-bb91-3a3780c50bd5",
   "metadata": {},
   "source": [
    "### Do the fit"
   ]
  },
  {
   "cell_type": "code",
   "execution_count": 9,
   "id": "4e94cd0a-c5a7-475d-be21-4d0d554cc6bf",
   "metadata": {},
   "outputs": [
    {
     "name": "stdout",
     "output_type": "stream",
     "text": [
      " FCN=222.417 FROM MIGRAD    STATUS=CONVERGED      40 CALLS          41 TOTAL\n",
      "                     EDM=9.94225e-21    STRATEGY= 1      ERROR MATRIX ACCURATE \n",
      "  EXT PARAMETER                                   STEP         FIRST   \n",
      "  NO.   NAME      VALUE            ERROR          SIZE      DERIVATIVE \n",
      "   1  p0           1.23466e-01   2.32227e-03   6.01414e-06   4.72581e-08\n",
      "   2  p1           3.75890e+00   4.98458e-02   1.29089e-04  -6.60514e-10\n"
     ]
    }
   ],
   "source": [
    "g = TGraphErrors(\n",
    "    len(trimmed_range_bin_centers), trimmed_range_bin_centers, trimmed_tpi_medians, trimmed_rangeerrs, trimmed_tpierrs\n",
    ")\n",
    "func = TF1(\"func\", FIT_FORM, 0.0, 350.0)\n",
    "gfit = g.Clone()\n",
    "gfit.SetName(\"TpiEst_Errs_Fit\")\n",
    "fit = gfit.Fit(\"func\", \"S\")\n",
    "\n",
    "chiperndf = fit.Chi2() / fit.Ndf()"
   ]
  },
  {
   "cell_type": "code",
   "execution_count": 10,
   "id": "a6889164-d677-4a1a-9fa3-a710f286de91",
   "metadata": {},
   "outputs": [
    {
     "name": "stdout",
     "output_type": "stream",
     "text": [
      "Chi Squared:  222.4173292942422  NdF:  30\n",
      "Chi Squared Per Degree of Freedom:  7.41391097647474\n"
     ]
    }
   ],
   "source": [
    "print(\"Chi Squared: \", fit.Chi2(), \" NdF: \", fit.Ndf())\n",
    "print(\"Chi Squared Per Degree of Freedom: \", chiperndf)"
   ]
  },
  {
   "cell_type": "markdown",
   "id": "8f440439-65bc-44ac-b97a-3518e1ec2651",
   "metadata": {},
   "source": [
    "### Plot"
   ]
  },
  {
   "cell_type": "code",
   "execution_count": 11,
   "id": "8aba0cc4-7592-47d5-b50d-fea810825931",
   "metadata": {},
   "outputs": [],
   "source": [
    "#m = PlotUtils.MnvPlotter(PlotUtils.kCCNuPionIncStyle)\n",
    "#del m"
   ]
  },
  {
   "cell_type": "code",
   "execution_count": 12,
   "id": "f22fb7db-5adf-444f-9d08-111ebf07e3b7",
   "metadata": {},
   "outputs": [],
   "source": [
    "# fill in the curve with points\n",
    "rangepoints = ar.array(\"d\", [0] * 2400)\n",
    "tpipoints = ar.array(\"d\", [0] * 2400)\n",
    "for q in range(0, 2400):\n",
    "    rangepoints[q] = float(q)\n",
    "    tpipoints[q] = func.Eval(q)"
   ]
  },
  {
   "cell_type": "code",
   "execution_count": 131,
   "id": "754992a0-b580-43de-9710-b300f670bb0f",
   "metadata": {},
   "outputs": [],
   "source": [
    "#canvas.Clear()\n",
    "del canvas\n",
    "canvas = TCanvas(\"canvas\", \"canvas\", 800, 600)"
   ]
  },
  {
   "cell_type": "code",
   "execution_count": 221,
   "id": "4bae9bfd-c14d-4f77-8ff2-09dff0976660",
   "metadata": {},
   "outputs": [
    {
     "data": {
      "image/png": "[encoded data removed]",
      "text/plain": [
       "<IPython.core.display.Image object>"
      ]
     },
     "metadata": {},
     "output_type": "display_data"
    }
   ],
   "source": [
    "# draw\n",
    "gfit.Draw(\"ALP\")\n",
    "gfit.SetTitle(\"\")\n",
    "gfit.SetMarkerStyle(20)\n",
    "gfit.SetMarkerSize(0.5)\n",
    "gfit.GetXaxis().SetLabelFont(42)  # Bold for x-axis labels\n",
    "gfit.GetYaxis().SetLabelFont(42)  # Bold for y-axis labels\n",
    "gfit.GetXaxis().SetTitleFont(62)\n",
    "gfit.GetYaxis().SetTitleFont(62)\n",
    "gfit.GetXaxis().SetTitleSize(0.05)\n",
    "gfit.GetYaxis().SetTitleSize(0.05)\n",
    "\n",
    "#gStyle.SetHistMinimumZero(True)\n",
    "gStyle.SetTitleOffset( 1.15 )\n",
    "\n",
    "gfit.SetMinimum(0)\n",
    "\n",
    "# Adjust y-axis title offset and left margin\n",
    "gfit.GetYaxis().SetTitleOffset(.9)  # Increase y-axis title distance\n",
    "#gPad.SetLeftMargin(0.15)             # Increase left margin\n",
    "\n",
    "# Adjust x-axis title offset and bottom margin\n",
    "gfit.GetXaxis().SetTitleOffset(.9)\n",
    "#gPad.SetBottomMargin(0.15)  \n",
    "\n",
    "gfit.GetXaxis().CenterTitle()\n",
    "\n",
    "#gPad.Modified()\n",
    "#gPad.Update()\n",
    "\n",
    "gfit.GetXaxis().SetTitle(\"Pion Range (mm)\")\n",
    "gfit.GetYaxis().SetTitle(\"T_{#pi} (MeV)\")\n",
    "\n",
    "latex1 = TLatex(0.55, 0.4, \"T_{#pi^{+}} = p_{0}x + p_{1}#sqrt{x}\")\n",
    "latex1.SetNDC()  # Use normalized device coordinates\n",
    "latex1.SetTextFont(32)  # Optional: Helvetica font\n",
    "latex1.SetTextSize(0.06)  # Optional: Adjust text size\n",
    "#latex1.SetTextColor(2)\n",
    "latex1.Draw()\n",
    "\n",
    "latex2 = TLatex(0.57, 0.27, \"#splitline{p_{0} = 0.123 #pm 0.002}{p_{1} = 3.76 #pm 0.05}\")\n",
    "latex2.SetNDC()  # Use normalized device coordinates\n",
    "latex2.SetTextFont(82)  # Optional: Helvetica font\n",
    "latex2.SetTextSize(0.04)  # Optional: Adjust text size\n",
    "#latex2.SetTextColor(2)\n",
    "latex2.Draw()\n",
    "\n",
    "latex3 = TLatex(0.57, 0.181, \"#chi^{2}/NDF = 222.4/30\")\n",
    "latex3.SetNDC()  # Use normalized device coordinates\n",
    "latex3.SetTextFont(82)  # Optional: Helvetica font\n",
    "latex3.SetTextSize(0.04)  # Optional: Adjust text size\n",
    "#latex3.SetTextColor(2)\n",
    "latex3.Draw()\n",
    "\n",
    "\n",
    "\n",
    "canvas.Draw()\n",
    "canvas.Update()"
   ]
  },
  {
   "cell_type": "code",
   "execution_count": 223,
   "id": "01d2e516-fdc3-4bbb-b256-febd16b70097",
   "metadata": {},
   "outputs": [
    {
     "name": "stderr",
     "output_type": "stream",
     "text": [
      "Info in <TCanvas::Print>: png file tpi_estimator.png has been created\n",
      "Info in <TCanvas::Print>: pdf file tpi_estimator.pdf has been created\n",
      "Info in <TCanvas::Print>: eps file tpi_estimator.eps has been created\n"
     ]
    }
   ],
   "source": [
    "canvas.SaveAs(\"tpi_estimator.png\")\n",
    "canvas.SaveAs(\"tpi_estimator.pdf\")\n",
    "canvas.SaveAs(\"tpi_estimator.eps\")"
   ]
  },
  {
   "cell_type": "code",
   "execution_count": null,
   "id": "560c7314-7cc7-44ee-b337-17d0bceaad52",
   "metadata": {},
   "outputs": [],
   "source": []
  }
 ],
 "metadata": {
  "kernelspec": {
   "display_name": "Python 3 (ipykernel)",
   "language": "python",
   "name": "python3"
  },
  "language_info": {
   "codemirror_mode": {
    "name": "ipython",
    "version": 3
   },
   "file_extension": ".py",
   "mimetype": "text/x-python",
   "name": "python",
   "nbconvert_exporter": "python",
   "pygments_lexer": "ipython3",
   "version": "3.11.9"
  }
 },
 "nbformat": 4,
 "nbformat_minor": 5
}
